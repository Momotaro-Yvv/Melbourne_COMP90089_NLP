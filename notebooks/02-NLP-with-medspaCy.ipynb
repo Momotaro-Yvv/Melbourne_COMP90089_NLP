{
 "cells": [
  {
   "cell_type": "markdown",
   "id": "50320b5f",
   "metadata": {},
   "source": [
    "<html>\n",
    "<table width=\"100%\" cellspacing=\"2\" cellpadding=\"2\" border=\"1\">\n",
    "<tbody>\n",
    "<tr>\n",
    "<td valign=\"center\" align=\"center\" width=\"45%\"><img src=\"../media/Univ-Utah.jpeg\"><br>\n",
    "</td>\n",
    "    <td valign=\"center\" align=\"center\" width=\"75%\">\n",
    "<h1 align=\"center\"><font size=\"+1\">University of Utah<br>Population Health Sciences<br>Data Science Workshop</font></h1></td>\n",
    "<td valign=\"center\" align=\"center\" width=\"45%\"><img\n",
    "src=\"../media/U_Health_stacked_png_red.png\" alt=\"Utah Health\n",
    "Logo\" width=\"128\" height=\"134\"><br>\n",
    "</td>\n",
    "</tr>\n",
    "</tbody>\n",
    "</table>\n",
    "<br>\n",
    "</html>"
   ]
  },
  {
   "cell_type": "code",
   "execution_count": 1,
   "id": "8c79b81c",
   "metadata": {},
   "outputs": [],
   "source": [
    "from helpers import *"
   ]
  },
  {
   "cell_type": "markdown",
   "id": "2208d3e3",
   "metadata": {},
   "source": [
    "# NLP with medspaCy\n",
    "This notebook will introduce the Python package `medspaCy`, a toolkit for clinical NLP.\n",
    "\n",
    "# I. Overview\n",
    "Clinical text has several unique challenges that making doing NLP with EHR notes difficult. Some examples are:\n",
    "- **It is very messy**, with semi-structured formatting from EHR\n",
    "- Clinical documents include **many abbreviations**, some of which are ambiguous\n",
    "- There are **specific tasks** needed in clinical NLP, such as **detecting negation or uncertainty** for concepts in the text\n",
    "\n",
    "Because of these unique challenges, we need specialized tools for working with clinical data. One package we can use for this is called `medspaCy`.\n",
    "\n",
    "## medspacy\n",
    "<img alt=\"MedSpaCy logo\" src=\"https://github.com/medspacy/medspacy/raw/master/images/medspacy_logo.png\">\n",
    "\n",
    "\n",
    "[`medspaCy`](https://github.com/medspacy/medspacy) is an open-source package maintained by NLP developers at the University of Utah and the US Department of Veterans Affairs. It's built using the popular [spaCy](https://spacy.io/) library and is specifically designed for working with clinical notes. \n",
    "\n",
    "The goal of medSpaCy is to provide flexible, easy-to-use spaCy components for common clinical NLP tasks, such as:\n",
    "\n",
    "- Concept extraction\n",
    "- Negation detection\n",
    "- Document section splitting\n",
    "\n",
    "Here are a couple of papers that used medspaCy:\n",
    "\n",
    "- [Launching into clinical space with medspaCy: a new clinical text processing toolkit in Python\n",
    "](https://www.ncbi.nlm.nih.gov/pmc/articles/PMC8861690/)\n",
    "- [A Natural Language Processing System for National\n",
    "COVID-19 Surveillance in the US Department of Veterans Affairs](https://aclanthology.org/2020.nlpcovid19-acl.10.pdf)\n",
    "- [ReHouSED: A novel measurement of Veteran housing stability using natural language processing](https://www.sciencedirect.com/science/article/pii/S153204642100232X?via%3Dihub)\n",
    "- [Assessing mortality prediction through different representation models based on concepts extracted from clinical notes](https://arxiv.org/pdf/2207.10872.pdf)\n",
    "- [A Study into patient similarity through representation learning from medical\n",
    "records ](https://arxiv.org/pdf/2104.14229.pdf)"
   ]
  },
  {
   "cell_type": "markdown",
   "id": "f5f2b0a5",
   "metadata": {},
   "source": [
    "## Getting started with medspaCy\n",
    "This notebook will walk show how to use medspaCy to process clinical text and introduce some of the spaCy infrastrcuture. We'll then design some rules to extract concepts from clinical texts.\n",
    "\n",
    "\n",
    "To get started with medspaCy, we'll import the library and then load a **model** which we will call `nlp`. A model in spaCy is the object which processes a note and performs the various steps of text processing."
   ]
  },
  {
   "cell_type": "code",
   "execution_count": 2,
   "id": "9e2f2e2a",
   "metadata": {},
   "outputs": [],
   "source": [
    "import medspacy"
   ]
  },
  {
   "cell_type": "code",
   "execution_count": 5,
   "id": "e0892b9f",
   "metadata": {
    "scrolled": true
   },
   "outputs": [
    {
     "name": "stdout",
     "output_type": "stream",
     "text": [
      "Requirement already satisfied: medspacy in /Users/alecchapman/opt/miniconda3/envs/phs/lib/python3.9/site-packages (0.2.0.0)\n",
      "Requirement already satisfied: six>=1.14.0 in /Users/alecchapman/opt/miniconda3/envs/phs/lib/python3.9/site-packages (from medspacy) (1.16.0)\n",
      "Requirement already satisfied: spacy<3.2.0,>=3.1.3 in /Users/alecchapman/opt/miniconda3/envs/phs/lib/python3.9/site-packages (from medspacy) (3.1.6)\n",
      "Requirement already satisfied: medspacy-quickumls>=2.4.1 in /Users/alecchapman/opt/miniconda3/envs/phs/lib/python3.9/site-packages (from medspacy) (2.4.1)\n",
      "Requirement already satisfied: PyRuSH>=1.0.3.5 in /Users/alecchapman/opt/miniconda3/envs/phs/lib/python3.9/site-packages (from medspacy) (1.0.3.6)\n",
      "Requirement already satisfied: jsonschema in /Users/alecchapman/opt/miniconda3/envs/phs/lib/python3.9/site-packages (from medspacy) (4.4.0)\n",
      "Requirement already satisfied: pysbd==0.3.4 in /Users/alecchapman/opt/miniconda3/envs/phs/lib/python3.9/site-packages (from medspacy) (0.3.4)\n",
      "Requirement already satisfied: requests<2.16,>=2.13.0 in /Users/alecchapman/opt/miniconda3/envs/phs/lib/python3.9/site-packages (from medspacy) (2.15.1)\n",
      "Requirement already satisfied: leveldb>=0.193 in /Users/alecchapman/opt/miniconda3/envs/phs/lib/python3.9/site-packages (from medspacy-quickumls>=2.4.1->medspacy) (0.201)\n",
      "Requirement already satisfied: quickumls-simstring>=1.1.5r1 in /Users/alecchapman/opt/miniconda3/envs/phs/lib/python3.9/site-packages (from medspacy-quickumls>=2.4.1->medspacy) (1.1.5.post1)\n",
      "Requirement already satisfied: numpy>=1.8.2 in /Users/alecchapman/opt/miniconda3/envs/phs/lib/python3.9/site-packages (from medspacy-quickumls>=2.4.1->medspacy) (1.23.0)\n",
      "Requirement already satisfied: unidecode>=0.4.19 in /Users/alecchapman/opt/miniconda3/envs/phs/lib/python3.9/site-packages (from medspacy-quickumls>=2.4.1->medspacy) (1.3.4)\n",
      "Requirement already satisfied: nltk>=3.3 in /Users/alecchapman/opt/miniconda3/envs/phs/lib/python3.9/site-packages (from medspacy-quickumls>=2.4.1->medspacy) (3.7)\n",
      "Requirement already satisfied: unqlite>=0.8.1 in /Users/alecchapman/opt/miniconda3/envs/phs/lib/python3.9/site-packages (from medspacy-quickumls>=2.4.1->medspacy) (0.9.3)\n",
      "Requirement already satisfied: tqdm in /Users/alecchapman/opt/miniconda3/envs/phs/lib/python3.9/site-packages (from nltk>=3.3->medspacy-quickumls>=2.4.1->medspacy) (4.64.0)\n",
      "Requirement already satisfied: joblib in /Users/alecchapman/opt/miniconda3/envs/phs/lib/python3.9/site-packages (from nltk>=3.3->medspacy-quickumls>=2.4.1->medspacy) (1.1.0)\n",
      "Requirement already satisfied: regex>=2021.8.3 in /Users/alecchapman/opt/miniconda3/envs/phs/lib/python3.9/site-packages (from nltk>=3.3->medspacy-quickumls>=2.4.1->medspacy) (2022.7.9)\n",
      "Requirement already satisfied: click in /Users/alecchapman/opt/miniconda3/envs/phs/lib/python3.9/site-packages (from nltk>=3.3->medspacy-quickumls>=2.4.1->medspacy) (8.0.4)\n",
      "Requirement already satisfied: quicksectx>=0.3.1 in /Users/alecchapman/opt/miniconda3/envs/phs/lib/python3.9/site-packages (from PyRuSH>=1.0.3.5->medspacy) (0.3.1)\n",
      "Requirement already satisfied: PyFastNER>=1.0.8b1 in /Users/alecchapman/opt/miniconda3/envs/phs/lib/python3.9/site-packages (from PyRuSH>=1.0.3.5->medspacy) (1.0.8)\n",
      "Requirement already satisfied: cython>=0.29 in /Users/alecchapman/opt/miniconda3/envs/phs/lib/python3.9/site-packages (from quicksectx>=0.3.1->PyRuSH>=1.0.3.5->medspacy) (0.29.30)\n",
      "Requirement already satisfied: murmurhash<1.1.0,>=0.28.0 in /Users/alecchapman/opt/miniconda3/envs/phs/lib/python3.9/site-packages (from spacy<3.2.0,>=3.1.3->medspacy) (1.0.7)\n",
      "Requirement already satisfied: srsly<3.0.0,>=2.4.1 in /Users/alecchapman/opt/miniconda3/envs/phs/lib/python3.9/site-packages (from spacy<3.2.0,>=3.1.3->medspacy) (2.4.4)\n",
      "Requirement already satisfied: pydantic!=1.8,!=1.8.1,<1.9.0,>=1.7.4 in /Users/alecchapman/opt/miniconda3/envs/phs/lib/python3.9/site-packages (from spacy<3.2.0,>=3.1.3->medspacy) (1.8.2)\n",
      "Requirement already satisfied: preshed<3.1.0,>=3.0.2 in /Users/alecchapman/opt/miniconda3/envs/phs/lib/python3.9/site-packages (from spacy<3.2.0,>=3.1.3->medspacy) (3.0.6)\n",
      "Requirement already satisfied: pathy>=0.3.5 in /Users/alecchapman/opt/miniconda3/envs/phs/lib/python3.9/site-packages (from spacy<3.2.0,>=3.1.3->medspacy) (0.6.2)\n",
      "Requirement already satisfied: setuptools in /Users/alecchapman/opt/miniconda3/envs/phs/lib/python3.9/site-packages (from spacy<3.2.0,>=3.1.3->medspacy) (61.2.0)\n",
      "Requirement already satisfied: blis<0.8.0,>=0.4.0 in /Users/alecchapman/opt/miniconda3/envs/phs/lib/python3.9/site-packages (from spacy<3.2.0,>=3.1.3->medspacy) (0.7.8)\n",
      "Requirement already satisfied: thinc<8.1.0,>=8.0.12 in /Users/alecchapman/opt/miniconda3/envs/phs/lib/python3.9/site-packages (from spacy<3.2.0,>=3.1.3->medspacy) (8.0.17)\n",
      "Requirement already satisfied: jinja2 in /Users/alecchapman/opt/miniconda3/envs/phs/lib/python3.9/site-packages (from spacy<3.2.0,>=3.1.3->medspacy) (3.0.3)\n",
      "Requirement already satisfied: typer<0.5.0,>=0.3.0 in /Users/alecchapman/opt/miniconda3/envs/phs/lib/python3.9/site-packages (from spacy<3.2.0,>=3.1.3->medspacy) (0.4.2)\n",
      "Requirement already satisfied: catalogue<2.1.0,>=2.0.6 in /Users/alecchapman/opt/miniconda3/envs/phs/lib/python3.9/site-packages (from spacy<3.2.0,>=3.1.3->medspacy) (2.0.7)\n",
      "Requirement already satisfied: cymem<2.1.0,>=2.0.2 in /Users/alecchapman/opt/miniconda3/envs/phs/lib/python3.9/site-packages (from spacy<3.2.0,>=3.1.3->medspacy) (2.0.6)\n",
      "Requirement already satisfied: packaging>=20.0 in /Users/alecchapman/opt/miniconda3/envs/phs/lib/python3.9/site-packages (from spacy<3.2.0,>=3.1.3->medspacy) (21.3)\n",
      "Requirement already satisfied: wasabi<1.1.0,>=0.8.1 in /Users/alecchapman/opt/miniconda3/envs/phs/lib/python3.9/site-packages (from spacy<3.2.0,>=3.1.3->medspacy) (0.9.1)\n",
      "Requirement already satisfied: spacy-legacy<3.1.0,>=3.0.8 in /Users/alecchapman/opt/miniconda3/envs/phs/lib/python3.9/site-packages (from spacy<3.2.0,>=3.1.3->medspacy) (3.0.9)\n",
      "Requirement already satisfied: pyparsing!=3.0.5,>=2.0.2 in /Users/alecchapman/opt/miniconda3/envs/phs/lib/python3.9/site-packages (from packaging>=20.0->spacy<3.2.0,>=3.1.3->medspacy) (3.0.4)\n",
      "Requirement already satisfied: smart-open<6.0.0,>=5.2.1 in /Users/alecchapman/opt/miniconda3/envs/phs/lib/python3.9/site-packages (from pathy>=0.3.5->spacy<3.2.0,>=3.1.3->medspacy) (5.2.1)\n",
      "Requirement already satisfied: typing-extensions>=3.7.4.3 in /Users/alecchapman/opt/miniconda3/envs/phs/lib/python3.9/site-packages (from pydantic!=1.8,!=1.8.1,<1.9.0,>=1.7.4->spacy<3.2.0,>=3.1.3->medspacy) (4.1.1)\n",
      "Requirement already satisfied: MarkupSafe>=2.0 in /Users/alecchapman/opt/miniconda3/envs/phs/lib/python3.9/site-packages (from jinja2->spacy<3.2.0,>=3.1.3->medspacy) (2.1.1)\n",
      "Requirement already satisfied: attrs>=17.4.0 in /Users/alecchapman/opt/miniconda3/envs/phs/lib/python3.9/site-packages (from jsonschema->medspacy) (21.4.0)\n",
      "Requirement already satisfied: pyrsistent!=0.17.0,!=0.17.1,!=0.17.2,>=0.14.0 in /Users/alecchapman/opt/miniconda3/envs/phs/lib/python3.9/site-packages (from jsonschema->medspacy) (0.18.0)\n"
     ]
    }
   ],
   "source": [
    "!pip install medspacy"
   ]
  },
  {
   "cell_type": "markdown",
   "id": "f3b3e1e7",
   "metadata": {},
   "source": [
    "### `nlp`\n",
    "The simplest way to create a model in medspaCy is `medspaCy.load()`. This is a spaCy `English` class. You can also load models for other languages."
   ]
  },
  {
   "cell_type": "code",
   "execution_count": 3,
   "id": "ca118fcd",
   "metadata": {},
   "outputs": [
    {
     "data": {
      "text/plain": [
       "<spacy.lang.en.English at 0x7f7da2f3d520>"
      ]
     },
     "execution_count": 3,
     "metadata": {},
     "output_type": "execute_result"
    }
   ],
   "source": [
    "nlp = medspacy.load()\n",
    "nlp"
   ]
  },
  {
   "cell_type": "code",
   "execution_count": 4,
   "id": "066e764f",
   "metadata": {},
   "outputs": [
    {
     "data": {
      "text/plain": [
       "spacy.lang.en.English"
      ]
     },
     "execution_count": 4,
     "metadata": {},
     "output_type": "execute_result"
    }
   ],
   "source": [
    "type(nlp)"
   ]
  },
  {
   "cell_type": "markdown",
   "id": "3d3e1eff",
   "metadata": {},
   "source": [
    "### `Doc`\n",
    "To process a text, we call `nlp(text)` and save the result to `doc`. Calling `nlp` on a text returns an object from the `Doc` class. In spaCy, `Doc` objects represent a single text."
   ]
  },
  {
   "cell_type": "code",
   "execution_count": 6,
   "id": "e3b42ecb",
   "metadata": {},
   "outputs": [
    {
     "name": "stderr",
     "output_type": "stream",
     "text": [
      "/Users/alecchapman/opt/miniconda3/envs/phs/lib/python3.9/site-packages/medspacy/common/medspacy_matcher.py:80: UserWarning: [W036] The component 'matcher' does not have any patterns defined.\n",
      "  matches = self.matcher(doc)\n"
     ]
    },
    {
     "data": {
      "text/plain": [
       "Chief complaint: Fever and SOB"
      ]
     },
     "execution_count": 6,
     "metadata": {},
     "output_type": "execute_result"
    }
   ],
   "source": [
    "text = \"Chief complaint: Fever and SOB\"\n",
    "doc = nlp(text)\n",
    "doc"
   ]
  },
  {
   "cell_type": "code",
   "execution_count": 11,
   "id": "ad5d24d7",
   "metadata": {},
   "outputs": [
    {
     "data": {
      "text/plain": [
       "'Chief complaint: Fever and SOB'"
      ]
     },
     "execution_count": 11,
     "metadata": {},
     "output_type": "execute_result"
    }
   ],
   "source": [
    "text"
   ]
  },
  {
   "cell_type": "code",
   "execution_count": 7,
   "id": "e5c3ea60",
   "metadata": {},
   "outputs": [
    {
     "data": {
      "text/plain": [
       "spacy.tokens.doc.Doc"
      ]
     },
     "execution_count": 7,
     "metadata": {},
     "output_type": "execute_result"
    }
   ],
   "source": [
    "type(doc)"
   ]
  },
  {
   "cell_type": "code",
   "execution_count": null,
   "id": "f600692f",
   "metadata": {},
   "outputs": [],
   "source": []
  },
  {
   "cell_type": "markdown",
   "id": "6e6e8ff1",
   "metadata": {},
   "source": [
    "### `Token`\n",
    "A `Token` is a single word, symbol, or whitespace in a `doc`. When we create a `doc` object, the text broken up into individual tokens. This is called **\"tokenization\"**.\n",
    "\n",
    "**Discussion**: Look at the tokens generated from this text snippet. What can you say about the tokenization method? Is it as simple as splitting up into words every time we reach a whitespace?"
   ]
  },
  {
   "cell_type": "code",
   "execution_count": 17,
   "id": "8591fa54",
   "metadata": {},
   "outputs": [
    {
     "name": "stdout",
     "output_type": "stream",
     "text": [
      "Chief\n",
      "complaint\n",
      ":\n",
      "Fever\n",
      "and\n",
      "SOB\n"
     ]
    }
   ],
   "source": [
    "for token in doc:\n",
    "    print(token)"
   ]
  },
  {
   "cell_type": "code",
   "execution_count": 18,
   "id": "83d068b1",
   "metadata": {},
   "outputs": [
    {
     "data": {
      "text/plain": [
       "SOB"
      ]
     },
     "execution_count": 18,
     "metadata": {},
     "output_type": "execute_result"
    }
   ],
   "source": [
    "token"
   ]
  },
  {
   "cell_type": "code",
   "execution_count": 9,
   "id": "719ae94e",
   "metadata": {},
   "outputs": [
    {
     "data": {
      "text/plain": [
       "spacy.tokens.token.Token"
      ]
     },
     "execution_count": 9,
     "metadata": {},
     "output_type": "execute_result"
    }
   ],
   "source": [
    "type(token)"
   ]
  },
  {
   "cell_type": "markdown",
   "id": "5937f317",
   "metadata": {},
   "source": [
    "If we access a single index of a doc, we get a token:"
   ]
  },
  {
   "cell_type": "code",
   "execution_count": 10,
   "id": "7cdbbbcf",
   "metadata": {},
   "outputs": [
    {
     "data": {
      "text/plain": [
       "Chief"
      ]
     },
     "execution_count": 10,
     "metadata": {},
     "output_type": "execute_result"
    }
   ],
   "source": [
    "token = doc[0]\n",
    "token"
   ]
  },
  {
   "cell_type": "code",
   "execution_count": 16,
   "id": "8cf3bd0a",
   "metadata": {},
   "outputs": [
    {
     "data": {
      "application/vnd.jupyter.widget-view+json": {
       "model_id": "eddf8ef1b56c41fbacea7318a7b31597",
       "version_major": 2,
       "version_minor": 0
      },
      "text/plain": [
       "VBox(children=(HTML(value='What would be the value of <p style=\"font-family:courier\";>text[0]</p>'), RadioButt…"
      ]
     },
     "metadata": {},
     "output_type": "display_data"
    },
    {
     "data": {
      "text/plain": []
     },
     "execution_count": 16,
     "metadata": {},
     "output_type": "execute_result"
    }
   ],
   "source": [
    "quiz_type_text0"
   ]
  },
  {
   "cell_type": "markdown",
   "id": "717188d5",
   "metadata": {},
   "source": [
    "### `Span`\n",
    "While a `Token` represents a single word, a `Span` represents one or more words from a `Doc`. We can get a `Span` by slicing a `Doc` object:"
   ]
  },
  {
   "cell_type": "code",
   "execution_count": 19,
   "id": "d979c2dd",
   "metadata": {},
   "outputs": [
    {
     "data": {
      "text/plain": [
       "Chief complaint:"
      ]
     },
     "execution_count": 19,
     "metadata": {},
     "output_type": "execute_result"
    }
   ],
   "source": [
    "span = doc[0:3]\n",
    "span"
   ]
  },
  {
   "cell_type": "code",
   "execution_count": 20,
   "id": "b2c1030c",
   "metadata": {},
   "outputs": [
    {
     "data": {
      "text/plain": [
       "spacy.tokens.span.Span"
      ]
     },
     "execution_count": 20,
     "metadata": {},
     "output_type": "execute_result"
    }
   ],
   "source": [
    "type(span)"
   ]
  },
  {
   "cell_type": "markdown",
   "id": "2ea63da6",
   "metadata": {},
   "source": [
    "## Pipeline Components\n",
    "Under the hood, the `nlp` object goes through a number of sequential steps to process the text. This is called a **pipeline** and it allows us to create modular, independent processing steps when analyzing text. We can see the names of our pipeline components through the `nlp.pipe_names` attribute:"
   ]
  },
  {
   "cell_type": "code",
   "execution_count": 21,
   "id": "6f3fa566",
   "metadata": {},
   "outputs": [
    {
     "data": {
      "text/plain": [
       "['medspacy_pyrush', 'medspacy_target_matcher', 'medspacy_context']"
      ]
     },
     "execution_count": 21,
     "metadata": {},
     "output_type": "execute_result"
    }
   ],
   "source": [
    "nlp.pipe_names"
   ]
  },
  {
   "cell_type": "markdown",
   "id": "25a19cdb",
   "metadata": {},
   "source": [
    "There's also a hidden component which runs before all of them called the `tokenizer`. This splits text up into tokens and creates a `Doc` object, which is then passed on to the rest of the components."
   ]
  },
  {
   "cell_type": "code",
   "execution_count": 22,
   "id": "14a7f648",
   "metadata": {},
   "outputs": [
    {
     "data": {
      "text/plain": [
       "Chief complaint: Fever and SOB"
      ]
     },
     "execution_count": 22,
     "metadata": {},
     "output_type": "execute_result"
    }
   ],
   "source": [
    "nlp.tokenizer(text)"
   ]
  },
  {
   "cell_type": "markdown",
   "id": "a53b5fab",
   "metadata": {},
   "source": [
    "We'll learn more about some of these pipeline components in the following notebooks. First, we'll start with the `target_matcher` component and learn how to extract clinical concepts from text."
   ]
  },
  {
   "cell_type": "code",
   "execution_count": 23,
   "id": "e8844193",
   "metadata": {},
   "outputs": [
    {
     "data": {
      "text/plain": [
       "['medspacy_target_matcher']"
      ]
     },
     "execution_count": 23,
     "metadata": {},
     "output_type": "execute_result"
    }
   ],
   "source": [
    "# For now, remove some components we don't need\n",
    "nlp.remove_pipe(\"medspacy_pyrush\")\n",
    "nlp.remove_pipe(\"medspacy_context\")\n",
    "nlp.pipe_names"
   ]
  },
  {
   "cell_type": "markdown",
   "id": "8e382ce0",
   "metadata": {},
   "source": [
    "## Concept Extraction\n",
    "One of the first step in many clinical NLP tasks is identiyfing particular **concepts** in text. These will vary in each use case, but some common examples of concepts are:\n",
    "- Diagnoses\n",
    "- Signs and symptoms\n",
    "- Medications\n",
    "- Tests\n",
    "\n",
    "### TODO\n",
    "For each of the texts below, identify the best description of the concepts **in bold**."
   ]
  },
  {
   "cell_type": "code",
   "execution_count": 24,
   "id": "0dc682c5",
   "metadata": {},
   "outputs": [
    {
     "data": {
      "application/vnd.jupyter.widget-view+json": {
       "model_id": "058d1e497f894377a31e0a8bc21905de",
       "version_major": 2,
       "version_minor": 0
      },
      "text/plain": [
       "VBox(children=(HTML(value='\\nPt is a 63M w/ h/o <strong>metastatic carcinoid tumor</strong>, <strong>HTN</stro…"
      ]
     },
     "metadata": {},
     "output_type": "display_data"
    },
    {
     "data": {
      "text/plain": []
     },
     "execution_count": 24,
     "metadata": {},
     "output_type": "execute_result"
    }
   ],
   "source": [
    "# RUN CELL TO SEE QUIZ\n",
    "quiz_medical_concepts_1"
   ]
  },
  {
   "cell_type": "code",
   "execution_count": 25,
   "id": "0d7fa2bc",
   "metadata": {},
   "outputs": [
    {
     "data": {
      "application/vnd.jupyter.widget-view+json": {
       "model_id": "2384a2016e594c3892724633da2bd835",
       "version_major": 2,
       "version_minor": 0
      },
      "text/plain": [
       "VBox(children=(HTML(value='\\nMedications on Admission:\\n<ol>\\n<li> <strong>ASA 81mg po qd</strong></li>\\n<li><…"
      ]
     },
     "metadata": {},
     "output_type": "display_data"
    },
    {
     "data": {
      "text/plain": []
     },
     "execution_count": 25,
     "metadata": {},
     "output_type": "execute_result"
    }
   ],
   "source": [
    "# RUN CELL TO SEE QUIZ\n",
    "quiz_medical_concepts_2"
   ]
  },
  {
   "cell_type": "code",
   "execution_count": 26,
   "id": "1550704b",
   "metadata": {},
   "outputs": [
    {
     "data": {
      "application/vnd.jupyter.widget-view+json": {
       "model_id": "62c99c540c6240899fa3867f7d782968",
       "version_major": 2,
       "version_minor": 0
      },
      "text/plain": [
       "VBox(children=(HTML(value='\\nPreviously <strong>homeless</strong> 2012-2013. Currently <strong>lives with his …"
      ]
     },
     "metadata": {},
     "output_type": "display_data"
    },
    {
     "data": {
      "text/plain": []
     },
     "execution_count": 26,
     "metadata": {},
     "output_type": "execute_result"
    }
   ],
   "source": [
    "# RUN CELL TO SEE QUIZ\n",
    "quiz_medical_concepts_3"
   ]
  },
  {
   "cell_type": "markdown",
   "id": "8e9f83a2",
   "metadata": {},
   "source": [
    "The task of extracting these spans of text is called **named entity recognition (NER)**. This can be done using either machine learning models or rule-based models. In this class, we'll focus on building rule-based systems. In rule-based NLP, we define patterns to match concepts in text. SpaCy offers many [rule-based methods](https://spacy.io/usage/rule-based-matching). MedSpaCy uses a pipeline component called `TargetMatcher` and rules defined by a class called `TargetRule`. Extracted concepts will be stored as `Span` objects in `doc.ents`.\n",
    "\n",
    "### `target_matcher`\n",
    "To start adding rules, we'll first need to access the pipeline component. We can do this by calling `nlp.get_pipe(pipe_name)`:"
   ]
  },
  {
   "cell_type": "code",
   "execution_count": 27,
   "id": "9c985810",
   "metadata": {},
   "outputs": [],
   "source": [
    "target_matcher = nlp.get_pipe(\"medspacy_target_matcher\")"
   ]
  },
  {
   "cell_type": "markdown",
   "id": "b1907cf6",
   "metadata": {},
   "source": [
    "Next we need to actually write some rules using the `TargetRule` class. Target rules require two positional arguments:\n",
    "- `literal`: A span of text to match in the text (case insensitive)\n",
    "- `category`: The label to assign to extracted concepts\n",
    "\n",
    "(There are also a few keyword arguments that we'll explore later, but these are the two required arguments.)\n",
    "\n",
    "Let's say that we want to extract patient diagnoses from the following text:"
   ]
  },
  {
   "cell_type": "code",
   "execution_count": 28,
   "id": "c1eb4f72",
   "metadata": {},
   "outputs": [],
   "source": [
    "dx_text = \"Pt is a 63M w/ h/o metastatic carcinoid tumor, HTN and hyperlipidemia\""
   ]
  },
  {
   "cell_type": "markdown",
   "id": "a40815d7",
   "metadata": {},
   "source": [
    "There are three diagnoses in this text. The first is `\"metastatic carcinoid tumor\"`. Let's write a rule to capture this:"
   ]
  },
  {
   "cell_type": "code",
   "execution_count": 29,
   "id": "3c2fc266",
   "metadata": {},
   "outputs": [],
   "source": [
    "from medspacy.target_matcher import TargetRule\n",
    "rule = TargetRule(\"metastatic carcinoid tumor\", \"DIAGNOSIS\")"
   ]
  },
  {
   "cell_type": "code",
   "execution_count": 30,
   "id": "eca276c8",
   "metadata": {},
   "outputs": [
    {
     "data": {
      "text/plain": [
       "TargetRule(literal=\"metastatic carcinoid tumor\", category=\"DIAGNOSIS\", pattern=None, attributes=None, on_match=None)"
      ]
     },
     "execution_count": 30,
     "metadata": {},
     "output_type": "execute_result"
    }
   ],
   "source": [
    "rule"
   ]
  },
  {
   "cell_type": "markdown",
   "id": "7a2badd6",
   "metadata": {},
   "source": [
    "We can then add it to our target matcher:"
   ]
  },
  {
   "cell_type": "code",
   "execution_count": 31,
   "id": "dadb6f16",
   "metadata": {},
   "outputs": [],
   "source": [
    "target_matcher.add(rule)"
   ]
  },
  {
   "cell_type": "code",
   "execution_count": 32,
   "id": "e7ef3cf4",
   "metadata": {},
   "outputs": [
    {
     "data": {
      "text/plain": [
       "[TargetRule(literal=\"metastatic carcinoid tumor\", category=\"DIAGNOSIS\", pattern=None, attributes=None, on_match=None)]"
      ]
     },
     "execution_count": 32,
     "metadata": {},
     "output_type": "execute_result"
    }
   ],
   "source": [
    "target_matcher.rules"
   ]
  },
  {
   "cell_type": "markdown",
   "id": "bd41bcfc",
   "metadata": {},
   "source": [
    "Now let's process the text above and see if it's extracted by our NLP model by looking at `doc.ents`:"
   ]
  },
  {
   "cell_type": "code",
   "execution_count": 33,
   "id": "c7e41d08",
   "metadata": {},
   "outputs": [
    {
     "name": "stderr",
     "output_type": "stream",
     "text": [
      "/Users/alecchapman/opt/miniconda3/envs/phs/lib/python3.9/site-packages/medspacy/common/medspacy_matcher.py:80: UserWarning: [W036] The component 'matcher' does not have any patterns defined.\n",
      "  matches = self.matcher(doc)\n"
     ]
    },
    {
     "data": {
      "text/plain": [
       "(metastatic carcinoid tumor,)"
      ]
     },
     "execution_count": 33,
     "metadata": {},
     "output_type": "execute_result"
    }
   ],
   "source": [
    "doc = nlp(dx_text)\n",
    "doc.ents"
   ]
  },
  {
   "cell_type": "markdown",
   "id": "8f906a5a",
   "metadata": {},
   "source": [
    "The `target_matcher` added a `Span` to the doc's entities representing the concept we just extracted. Let's assign this span to the variable `ent`. We can see the concept category by checking the `ent.label_` attribute."
   ]
  },
  {
   "cell_type": "code",
   "execution_count": 34,
   "id": "93ff5d24",
   "metadata": {},
   "outputs": [
    {
     "name": "stdout",
     "output_type": "stream",
     "text": [
      "metastatic carcinoid tumor\n",
      "<class 'spacy.tokens.span.Span'>\n",
      "DIAGNOSIS\n"
     ]
    }
   ],
   "source": [
    "ent = doc.ents[0]\n",
    "print(ent)\n",
    "print(type(ent))\n",
    "print(ent.label_)"
   ]
  },
  {
   "cell_type": "markdown",
   "id": "af6faddd",
   "metadata": {},
   "source": [
    "`medspaCy` provides some visualization functions which make it easier to look at what has been extracted from the notes:"
   ]
  },
  {
   "cell_type": "code",
   "execution_count": 36,
   "id": "d2290023",
   "metadata": {},
   "outputs": [],
   "source": [
    "from medspacy.visualization import visualize_ent"
   ]
  },
  {
   "cell_type": "code",
   "execution_count": 37,
   "id": "1df0ce19",
   "metadata": {},
   "outputs": [
    {
     "name": "stderr",
     "output_type": "stream",
     "text": [
      "/Users/alecchapman/opt/miniconda3/envs/phs/lib/python3.9/site-packages/spacy/displacy/__init__.py:65: DeprecationWarning: Importing display from IPython.core.display is deprecated since IPython 7.14, please import from IPython display\n",
      "  from IPython.core.display import display, HTML\n"
     ]
    },
    {
     "data": {
      "text/html": [
       "<span class=\"tex2jax_ignore\"><div class=\"entities\" style=\"line-height: 2.5; direction: ltr\">Pt is a 63M w/ h/o \n",
       "<mark class=\"entity\" style=\"background: #1f77b4; padding: 0.45em 0.6em; margin: 0 0.25em; line-height: 1; border-radius: 0.35em;\">\n",
       "    metastatic carcinoid tumor\n",
       "    <span style=\"font-size: 0.8em; font-weight: bold; line-height: 1; border-radius: 0.35em; vertical-align: middle; margin-left: 0.5rem\">DIAGNOSIS</span>\n",
       "</mark>\n",
       ", HTN and hyperlipidemia</div></span>"
      ],
      "text/plain": [
       "<IPython.core.display.HTML object>"
      ]
     },
     "metadata": {},
     "output_type": "display_data"
    }
   ],
   "source": [
    "visualize_ent(doc)"
   ]
  },
  {
   "cell_type": "code",
   "execution_count": null,
   "id": "39f39f86",
   "metadata": {},
   "outputs": [],
   "source": []
  },
  {
   "cell_type": "markdown",
   "id": "1ada6e8a",
   "metadata": {},
   "source": [
    "### TODO\n",
    "Edit the cell below to write a list of rules for extracting the two remaining diagnoses from `dx_text`. Then add them to the target matcher and reprocess the doc."
   ]
  },
  {
   "cell_type": "code",
   "execution_count": 38,
   "id": "fa52a0fb",
   "metadata": {},
   "outputs": [],
   "source": [
    "rules = [\n",
    "    TargetRule(\"HTN\", \"DIAGNOSIS\"),\n",
    "    TargetRule(\"hyperlipidemia\", \"DIAGNOSIS\"),\n",
    "]"
   ]
  },
  {
   "cell_type": "code",
   "execution_count": 39,
   "id": "88831673",
   "metadata": {},
   "outputs": [],
   "source": [
    "target_matcher.add(rules)"
   ]
  },
  {
   "cell_type": "code",
   "execution_count": 40,
   "id": "53197b54",
   "metadata": {},
   "outputs": [
    {
     "name": "stderr",
     "output_type": "stream",
     "text": [
      "/Users/alecchapman/opt/miniconda3/envs/phs/lib/python3.9/site-packages/medspacy/common/medspacy_matcher.py:80: UserWarning: [W036] The component 'matcher' does not have any patterns defined.\n",
      "  matches = self.matcher(doc)\n"
     ]
    }
   ],
   "source": [
    "doc_dx = nlp(dx_text)"
   ]
  },
  {
   "cell_type": "code",
   "execution_count": 41,
   "id": "1bc68a57",
   "metadata": {},
   "outputs": [
    {
     "name": "stderr",
     "output_type": "stream",
     "text": [
      "/Users/alecchapman/opt/miniconda3/envs/phs/lib/python3.9/site-packages/spacy/displacy/__init__.py:65: DeprecationWarning: Importing display from IPython.core.display is deprecated since IPython 7.14, please import from IPython display\n",
      "  from IPython.core.display import display, HTML\n"
     ]
    },
    {
     "data": {
      "text/html": [
       "<span class=\"tex2jax_ignore\"><div class=\"entities\" style=\"line-height: 2.5; direction: ltr\">Pt is a 63M w/ h/o \n",
       "<mark class=\"entity\" style=\"background: #1f77b4; padding: 0.45em 0.6em; margin: 0 0.25em; line-height: 1; border-radius: 0.35em;\">\n",
       "    metastatic carcinoid tumor\n",
       "    <span style=\"font-size: 0.8em; font-weight: bold; line-height: 1; border-radius: 0.35em; vertical-align: middle; margin-left: 0.5rem\">DIAGNOSIS</span>\n",
       "</mark>\n",
       ", \n",
       "<mark class=\"entity\" style=\"background: #1f77b4; padding: 0.45em 0.6em; margin: 0 0.25em; line-height: 1; border-radius: 0.35em;\">\n",
       "    HTN\n",
       "    <span style=\"font-size: 0.8em; font-weight: bold; line-height: 1; border-radius: 0.35em; vertical-align: middle; margin-left: 0.5rem\">DIAGNOSIS</span>\n",
       "</mark>\n",
       " and \n",
       "<mark class=\"entity\" style=\"background: #1f77b4; padding: 0.45em 0.6em; margin: 0 0.25em; line-height: 1; border-radius: 0.35em;\">\n",
       "    hyperlipidemia\n",
       "    <span style=\"font-size: 0.8em; font-weight: bold; line-height: 1; border-radius: 0.35em; vertical-align: middle; margin-left: 0.5rem\">DIAGNOSIS</span>\n",
       "</mark>\n",
       "</div></span>"
      ],
      "text/plain": [
       "<IPython.core.display.HTML object>"
      ]
     },
     "metadata": {},
     "output_type": "display_data"
    }
   ],
   "source": [
    "visualize_ent(doc_dx)"
   ]
  },
  {
   "cell_type": "code",
   "execution_count": 43,
   "id": "8c005cef",
   "metadata": {},
   "outputs": [
    {
     "data": {
      "text/plain": [
       "(metastatic carcinoid tumor, HTN, hyperlipidemia)"
      ]
     },
     "execution_count": 43,
     "metadata": {},
     "output_type": "execute_result"
    }
   ],
   "source": [
    "doc_dx.ents"
   ]
  },
  {
   "cell_type": "code",
   "execution_count": 42,
   "id": "10d01752",
   "metadata": {},
   "outputs": [
    {
     "name": "stdout",
     "output_type": "stream",
     "text": [
      "That is correct!\n"
     ]
    }
   ],
   "source": [
    "# RUN CELL TO TEST VALUE\n",
    "test_dx_text.test(doc_dx)"
   ]
  },
  {
   "cell_type": "code",
   "execution_count": null,
   "id": "17388c86",
   "metadata": {},
   "outputs": [],
   "source": []
  },
  {
   "cell_type": "markdown",
   "id": "28626c30",
   "metadata": {},
   "source": [
    "### Advanced pattern matching\n",
    "We could pass in simple strings to our `ruler` to extract exact matches. However, there may be lots of small variations in the text we want to extract, and it will grow cumbersome to type out every single possible string. Instead, we'll do some more advanced matching by using **token attribute matching**.\n",
    "\n",
    "SpaCy allows us to write patterns based on not only the exact text, but other linguistic attributes such as **part-of-speech tag**, **numerical properties**, **regular expressions**, and much more. \n",
    "\n",
    "### Example: Chronic Kidney Disease\n",
    "Each of the texts below mention a different stage of Chronic Kidney Disease:\n",
    "\n",
    "---\n",
    "- 76 year old man with CKD Stage 3.\n",
    "- relevant diagnoses: ckd stage 4\n",
    "- The patient has progressed to ckd stage 5\n",
    "---\n",
    "\n",
    "We could write different target rules to match each text, but sometimes there are too many combinations to feasibly write out every option. Instead of trying to think of the near-infinite number of variations, let's write one pattern which will match all of these clinical problems.\n",
    "\n",
    "An advanced pattern in spaCy is a Python **list**. Each element in that list is a **dictionary** representing each of the **tokens** (individual words) in a span of text. The **keys** of the dictionary represent the token attributes to look at and the **values** represent the values which should trigger a match:\n",
    "\n",
    "---\n",
    "```python\n",
    "[\n",
    "    {\"ATTRIBUTE\": value}, # First token\n",
    "    {\"ATTRIBUTE\": value}, # Second token\n",
    "    {\"ATTRIBUTE\": value} # Third token\n",
    "]\n",
    "```\n",
    "\n",
    "Let's now write a pattern which will match both **\"CKD Stage 3\"** and **\"ckd stage two\"**. What attributes are similar between these two spans of text? What is a general pattern that you could match?\n",
    "\n",
    "Both spans of text start out with the text **\"CKD\"**, although one is upper-case and one is lower-case. To match either, we will match on the **\"LOWER\"** attribute of the token (which is the lower-case text):\n",
    "\n",
    "```python\n",
    "{\"LOWER\": \"ckd\"}\n",
    "```\n",
    "\n",
    "The second token is **\"Stage\"**, but again there's a difference in case. So let's use the **\"LOWER\"** attribute again:\n",
    "\n",
    "```python\n",
    "{\"LOWER\": \"stage\"}\n",
    "```\n",
    "\n",
    "Finally, the last token is a number. In this text there are **\"3\"** and **\"two\"**, but there could potentially be any number **1-5**. So let's just match any number. SpaCy can also recognize that the word **\"two\"** is a number by using the **\"LIKE_NUM\"** attribute, which is a boolean:\n",
    "\n",
    "```python\n",
    "{\"LIKE_NUM\": True}\n",
    "```\n",
    "\n",
    "When we put it all together, here is our pattern:\n",
    "```python\n",
    "pattern = [\n",
    "    {\"LOWER\": \"ckd\"}, # Token 1\n",
    "    {\"LOWER\": \"stage\"}, # Token 2\n",
    "    {\"LIKE_NUM\": True} # Token 3\n",
    "]\n",
    "```\n",
    "\n",
    "Once we've written a rule like this, we can add it to the target rule using the `pattern` keyword argument.\n",
    "\n",
    "```python\n",
    "TargetRule(\"CKD Stage X\", \"DIAGNOSIS\", pattern=pattern)\n",
    "```\n",
    "\n",
    "Another helpful attribute for advanced pattern matching is `\"OP\"`, which lets the pattern be flexible on how many times the token is matched:\n",
    "\n",
    "- `\"OP\": \"?` matches zero or 1 time\n",
    "- `\"OP\": \"*` matches zero or more times (up to any number)\n",
    "- `\"OP\": \"+` matches 1 or more time\n",
    "\n",
    "So if we modified the pattern above to include an operator attribute then we could make `\"stage\"` and the number optional and match just \"`ckd`\":\n",
    "\n",
    "```python\n",
    "pattern = [\n",
    "    {\"LOWER\": \"ckd\"}, # Token 1\n",
    "    {\"LOWER\": \"stage\", \"OP\": \"?\"}, # Token 2\n",
    "    {\"LIKE_NUM\": True, \"OP\": \"?\"} # Token 3\n",
    "]\n",
    "```\n",
    "\n",
    "#### TODO\n",
    "Finish the code below to create a rule matching which will match all three examples of CKD. Then add it to the pipeline and test your model. You can test it on the three examples below."
   ]
  },
  {
   "cell_type": "code",
   "execution_count": 44,
   "id": "db7b9ebd",
   "metadata": {},
   "outputs": [],
   "source": [
    "texts = [\n",
    "    \"76 year old man with CKD Stage 3.\",\n",
    "    \"relevant diagnoses: ckd stage 4\",\n",
    "    \"The patient has progressed to ckd stage 5\",\n",
    "    \"She was dx'd with CKD in January.\"\n",
    "]"
   ]
  },
  {
   "cell_type": "code",
   "execution_count": 48,
   "id": "de4d0a62",
   "metadata": {},
   "outputs": [],
   "source": [
    "rule = TargetRule(\"CKD Stage X\", \"DIAGNOSIS\", \n",
    "                  pattern=[\n",
    "                      {\"LOWER\": \"ckd\"},\n",
    "                      {\"LOWER\": \"stage\", \"OP\": \"?\"},\n",
    "                      {\"LIKE_NUM\": True, \"OP\": \"?\"}\n",
    "                  ]\n",
    ")"
   ]
  },
  {
   "cell_type": "code",
   "execution_count": 49,
   "id": "02af7688",
   "metadata": {},
   "outputs": [],
   "source": [
    "target_matcher = nlp.get_pipe(\"medspacy_target_matcher\")\n",
    "target_matcher.add(rule)"
   ]
  },
  {
   "cell_type": "code",
   "execution_count": 50,
   "id": "f74583ed",
   "metadata": {},
   "outputs": [
    {
     "name": "stderr",
     "output_type": "stream",
     "text": [
      "/Users/alecchapman/opt/miniconda3/envs/phs/lib/python3.9/site-packages/spacy/displacy/__init__.py:65: DeprecationWarning: Importing display from IPython.core.display is deprecated since IPython 7.14, please import from IPython display\n",
      "  from IPython.core.display import display, HTML\n"
     ]
    },
    {
     "data": {
      "text/html": [
       "<span class=\"tex2jax_ignore\"><div class=\"entities\" style=\"line-height: 2.5; direction: ltr\">76 year old man with \n",
       "<mark class=\"entity\" style=\"background: #1f77b4; padding: 0.45em 0.6em; margin: 0 0.25em; line-height: 1; border-radius: 0.35em;\">\n",
       "    CKD Stage 3\n",
       "    <span style=\"font-size: 0.8em; font-weight: bold; line-height: 1; border-radius: 0.35em; vertical-align: middle; margin-left: 0.5rem\">DIAGNOSIS</span>\n",
       "</mark>\n",
       ".</div></span>"
      ],
      "text/plain": [
       "<IPython.core.display.HTML object>"
      ]
     },
     "metadata": {},
     "output_type": "display_data"
    },
    {
     "name": "stderr",
     "output_type": "stream",
     "text": [
      "/Users/alecchapman/opt/miniconda3/envs/phs/lib/python3.9/site-packages/spacy/displacy/__init__.py:65: DeprecationWarning: Importing display from IPython.core.display is deprecated since IPython 7.14, please import from IPython display\n",
      "  from IPython.core.display import display, HTML\n"
     ]
    },
    {
     "data": {
      "text/html": [
       "<span class=\"tex2jax_ignore\"><div class=\"entities\" style=\"line-height: 2.5; direction: ltr\">relevant diagnoses: \n",
       "<mark class=\"entity\" style=\"background: #1f77b4; padding: 0.45em 0.6em; margin: 0 0.25em; line-height: 1; border-radius: 0.35em;\">\n",
       "    ckd stage 4\n",
       "    <span style=\"font-size: 0.8em; font-weight: bold; line-height: 1; border-radius: 0.35em; vertical-align: middle; margin-left: 0.5rem\">DIAGNOSIS</span>\n",
       "</mark>\n",
       "</div></span>"
      ],
      "text/plain": [
       "<IPython.core.display.HTML object>"
      ]
     },
     "metadata": {},
     "output_type": "display_data"
    },
    {
     "name": "stderr",
     "output_type": "stream",
     "text": [
      "/Users/alecchapman/opt/miniconda3/envs/phs/lib/python3.9/site-packages/spacy/displacy/__init__.py:65: DeprecationWarning: Importing display from IPython.core.display is deprecated since IPython 7.14, please import from IPython display\n",
      "  from IPython.core.display import display, HTML\n"
     ]
    },
    {
     "data": {
      "text/html": [
       "<span class=\"tex2jax_ignore\"><div class=\"entities\" style=\"line-height: 2.5; direction: ltr\">The patient has progressed to \n",
       "<mark class=\"entity\" style=\"background: #1f77b4; padding: 0.45em 0.6em; margin: 0 0.25em; line-height: 1; border-radius: 0.35em;\">\n",
       "    ckd stage 5\n",
       "    <span style=\"font-size: 0.8em; font-weight: bold; line-height: 1; border-radius: 0.35em; vertical-align: middle; margin-left: 0.5rem\">DIAGNOSIS</span>\n",
       "</mark>\n",
       "</div></span>"
      ],
      "text/plain": [
       "<IPython.core.display.HTML object>"
      ]
     },
     "metadata": {},
     "output_type": "display_data"
    },
    {
     "name": "stderr",
     "output_type": "stream",
     "text": [
      "/Users/alecchapman/opt/miniconda3/envs/phs/lib/python3.9/site-packages/spacy/displacy/__init__.py:65: DeprecationWarning: Importing display from IPython.core.display is deprecated since IPython 7.14, please import from IPython display\n",
      "  from IPython.core.display import display, HTML\n"
     ]
    },
    {
     "data": {
      "text/html": [
       "<span class=\"tex2jax_ignore\"><div class=\"entities\" style=\"line-height: 2.5; direction: ltr\">She was dx'd with \n",
       "<mark class=\"entity\" style=\"background: #1f77b4; padding: 0.45em 0.6em; margin: 0 0.25em; line-height: 1; border-radius: 0.35em;\">\n",
       "    CKD\n",
       "    <span style=\"font-size: 0.8em; font-weight: bold; line-height: 1; border-radius: 0.35em; vertical-align: middle; margin-left: 0.5rem\">DIAGNOSIS</span>\n",
       "</mark>\n",
       " in January.</div></span>"
      ],
      "text/plain": [
       "<IPython.core.display.HTML object>"
      ]
     },
     "metadata": {},
     "output_type": "display_data"
    }
   ],
   "source": [
    "for text in texts:\n",
    "    visualize_ent(nlp(text))"
   ]
  },
  {
   "cell_type": "code",
   "execution_count": null,
   "id": "ad11079e",
   "metadata": {},
   "outputs": [],
   "source": []
  },
  {
   "cell_type": "code",
   "execution_count": null,
   "id": "ae2b592c",
   "metadata": {},
   "outputs": [],
   "source": [
    "# RUN CELL TEST VALUE\n",
    "test_ckd_stage_x.test(nlp)"
   ]
  },
  {
   "cell_type": "code",
   "execution_count": null,
   "id": "426d3fc9",
   "metadata": {},
   "outputs": [],
   "source": []
  },
  {
   "cell_type": "markdown",
   "id": "4729b4e6",
   "metadata": {},
   "source": [
    "## Concept extraction practice\n",
    "Let's return to the example discharge summary we looked at in a previous notebook. Add rules to `target_matcher` that will extract the following concepts from the text:\n",
    "- `\"DIAGNOSIS\"`\n",
    "- `\"MEDICATION\"`\n",
    "- `\"SIGN/SYMPTOM\"`\n",
    "- `\"SOCIAL_DETERMINANT\"`\n",
    "- `\"PROCEDURE\"`\n",
    "\n",
    "It might be useful to work in teams with clinicians or people familiar with these concepts so you can identify and define them. You don't need to extract every concept from the text (there are a lot!) so maybe just go through the note and add a few examples of each conceptt. If you'd like to write more sophisticated rules, it may be helpful to review spaCy's [rule-based NLP documentation](https://spacy.io/usage/rule-based-matching#matcher) (look at the documentation under `Matcher`)."
   ]
  },
  {
   "cell_type": "code",
   "execution_count": 51,
   "id": "4c8b1163",
   "metadata": {},
   "outputs": [
    {
     "data": {
      "application/vnd.jupyter.widget-view+json": {
       "model_id": "89825e8905544ba081f433cbc98c2997",
       "version_major": 2,
       "version_minor": 0
      },
      "text/plain": [
       "VBox(children=(HTML(value='</br><strong>Displaying hint 0/2</strong>'), Output(), Button(description='Get hint…"
      ]
     },
     "metadata": {},
     "output_type": "display_data"
    },
    {
     "data": {
      "text/plain": []
     },
     "execution_count": 51,
     "metadata": {},
     "output_type": "execute_result"
    }
   ],
   "source": [
    "# RUN CELL TO SEE HINT\n",
    "hint_discharge_summ_target_rules"
   ]
  },
  {
   "cell_type": "code",
   "execution_count": 52,
   "id": "6a3f123e",
   "metadata": {},
   "outputs": [],
   "source": [
    "# Load a fresh NLP model\n",
    "nlp = medspacy.load(enable=[\"medspacy_target_matcher\"])\n",
    "target_matcher = nlp.get_pipe(\"medspacy_target_matcher\")"
   ]
  },
  {
   "cell_type": "code",
   "execution_count": 60,
   "id": "c989d0cb",
   "metadata": {},
   "outputs": [],
   "source": [
    "rules = [\n",
    "    \n",
    "    TargetRule(\"SOB\", \"SIGN/SYMPTOM\",\n",
    "                  pattern=[\n",
    "                    {\"LOWER\": \"sob\", \"OP\": \"?\"},\n",
    "                    {\"LOWER\": \"shortness of breath\", \"OP\": \"?\"},\n",
    "                    {\"LOWER\": \"short of breath\", \"OP\": \"?\"}\n",
    "                  ]\n",
    "                  ),\n",
    "    TargetRule(\"DOE\", \"SIGN/SYMPTOM\",\n",
    "                  pattern=[\n",
    "                    {\"LOWER\": \"doe\", \"OP\": \"?\"},\n",
    "                    {\"LOWER\": \"dyspnea on exertion\", \"OP\": \"?\"},\n",
    "                    {\"LOWER\": \"dyspnea upon exertion\", \"OP\": \"?\"}\n",
    "                  ]\n",
    "                  ),\n",
    "    TargetRule(\"Endartectomy\", \"PROCEDURE\",\n",
    "                  pattern=[\n",
    "                    {\"LOWER\": \"endartectomy\"},\n",
    "                  ]),\n",
    "    \n",
    "    TargetRule(\"metastatic carcinoid tumor\", \"DIAGNOSIS\"),\n",
    "    TargetRule(\"SOB\", \"SIGN/SYMPTOM\"),\n",
    "    TargetRule(\"HTN\", \"DIAGNOSIS\"),\n",
    "    TargetRule(\"hyperlipidemia\", \"DIAGNOSIS\"),\n",
    "    TargetRule(\"DOE\", \"SIGN/SYMPTOM\"),\n",
    "    TargetRule(\"CXR\", \"PROCEDURE\"),\n",
    "    TargetRule(\"orthopnea\", \"SIGN/SYMPTOM\"),\n",
    "    TargetRule(\"chest pain\", \"SIGN/SYMPTOM\"),\n",
    "    TargetRule(\"ASA\", \"MEDICATION\"),\n",
    "    TargetRule(\"Lipitor\", \"MEDICATION\"),\n",
    "    \n",
    "    TargetRule(\"metastatic carcinoid tumor\", \"DIAGNOSIS\"),\n",
    "    TargetRule(\"hyperlipidemia\", \"DIAGNOSIS\"),\n",
    "    TargetRule(\"HTN\", \"DIAGNOSIS\"),\n",
    "    TargetRule(\"congestive heart failure\", \"DIAGNOSIS\"),\n",
    "    TargetRule(\"diabetes mellitus\", \"DIAGNOSIS\"),\n",
    "    TargetRule(\"20 IV Lasix\", \"MEDICATION\"),\n",
    "    TargetRule(\"40mg [**9-10**]\", \"MEDICATION\"),\n",
    "    TargetRule(\"ASA 81 mg\", \"MEDICATION\"),\n",
    "    TargetRule(\"Lipitor 20mg\", \"MEDICATION\"),\n",
    "    TargetRule(\"SOB\", \"SIGN/SYMPTOM\"),\n",
    "    TargetRule(\"short of breath\", \"SIGN/SYMPTOM\"),\n",
    "    TargetRule(\"fever\", \"SIGN/SYMPTOM\"),\n",
    "    TargetRule(\"chest pain\", \"SIGN/SYMPTOM\"),\n",
    "    TargetRule(\"SOB\", \"SIGN/SYMPTOM\"),\n",
    "    TargetRule(\"homeless\", \"SOCIAL DETERMINANT\"),\n",
    "    TargetRule(\"two daughters\", \"SOCIAL DETERMINANT\"),\n",
    "    TargetRule(\"employed full-time\", \"SOCIAL DETERMINANT\"),\n",
    "    TargetRule(\"CXR\", \"PROCEDURE\"),\n",
    "    TargetRule(\"Emergent TTE\", \"PROCEDURE\"),\n",
    "]\n",
    "\n",
    "target_matcher.add(rules)"
   ]
  },
  {
   "cell_type": "code",
   "execution_count": 61,
   "id": "237c39d3",
   "metadata": {},
   "outputs": [
    {
     "name": "stderr",
     "output_type": "stream",
     "text": [
      "/Users/alecchapman/opt/miniconda3/envs/phs/lib/python3.9/site-packages/spacy/displacy/__init__.py:65: DeprecationWarning: Importing display from IPython.core.display is deprecated since IPython 7.14, please import from IPython display\n",
      "  from IPython.core.display import display, HTML\n"
     ]
    },
    {
     "data": {
      "text/html": [
       "<span class=\"tex2jax_ignore\"><div class=\"entities\" style=\"line-height: 2.5; direction: ltr\"></br>Service: MEDICINE</br></br>Chief Complaint:</br>5 days worsening \n",
       "<mark class=\"entity\" style=\"background: #ff7f0e; padding: 0.45em 0.6em; margin: 0 0.25em; line-height: 1; border-radius: 0.35em;\">\n",
       "    SOB\n",
       "    <span style=\"font-size: 0.8em; font-weight: bold; line-height: 1; border-radius: 0.35em; vertical-align: middle; margin-left: 0.5rem\">SIGN/SYMPTOM</span>\n",
       "</mark>\n",
       ", \n",
       "<mark class=\"entity\" style=\"background: #ff7f0e; padding: 0.45em 0.6em; margin: 0 0.25em; line-height: 1; border-radius: 0.35em;\">\n",
       "    DOE\n",
       "    <span style=\"font-size: 0.8em; font-weight: bold; line-height: 1; border-radius: 0.35em; vertical-align: middle; margin-left: 0.5rem\">SIGN/SYMPTOM</span>\n",
       "</mark>\n",
       "</br></br>History of Present Illness:</br>Pt is a 63M w/ h/o \n",
       "<mark class=\"entity\" style=\"background: #1f77b4; padding: 0.45em 0.6em; margin: 0 0.25em; line-height: 1; border-radius: 0.35em;\">\n",
       "    metastatic carcinoid tumor\n",
       "    <span style=\"font-size: 0.8em; font-weight: bold; line-height: 1; border-radius: 0.35em; vertical-align: middle; margin-left: 0.5rem\">DIAGNOSIS</span>\n",
       "</mark>\n",
       ", \n",
       "<mark class=\"entity\" style=\"background: #1f77b4; padding: 0.45em 0.6em; margin: 0 0.25em; line-height: 1; border-radius: 0.35em;\">\n",
       "    HTN\n",
       "    <span style=\"font-size: 0.8em; font-weight: bold; line-height: 1; border-radius: 0.35em; vertical-align: middle; margin-left: 0.5rem\">DIAGNOSIS</span>\n",
       "</mark>\n",
       ", </br>\n",
       "<mark class=\"entity\" style=\"background: #1f77b4; padding: 0.45em 0.6em; margin: 0 0.25em; line-height: 1; border-radius: 0.35em;\">\n",
       "    hyperlipidemia\n",
       "    <span style=\"font-size: 0.8em; font-weight: bold; line-height: 1; border-radius: 0.35em; vertical-align: middle; margin-left: 0.5rem\">DIAGNOSIS</span>\n",
       "</mark>\n",
       " who reports increasing \n",
       "<mark class=\"entity\" style=\"background: #ff7f0e; padding: 0.45em 0.6em; margin: 0 0.25em; line-height: 1; border-radius: 0.35em;\">\n",
       "    SOB\n",
       "    <span style=\"font-size: 0.8em; font-weight: bold; line-height: 1; border-radius: 0.35em; vertical-align: middle; margin-left: 0.5rem\">SIGN/SYMPTOM</span>\n",
       "</mark>\n",
       " and \n",
       "<mark class=\"entity\" style=\"background: #ff7f0e; padding: 0.45em 0.6em; margin: 0 0.25em; line-height: 1; border-radius: 0.35em;\">\n",
       "    DOE\n",
       "    <span style=\"font-size: 0.8em; font-weight: bold; line-height: 1; border-radius: 0.35em; vertical-align: middle; margin-left: 0.5rem\">SIGN/SYMPTOM</span>\n",
       "</mark>\n",
       " starting about </br>a month ago but worsening significantly within the last 5 days. </br>It has recently gotten so bad he can barely get up out of a </br>chair without getting \n",
       "<mark class=\"entity\" style=\"background: #ff7f0e; padding: 0.45em 0.6em; margin: 0 0.25em; line-height: 1; border-radius: 0.35em;\">\n",
       "    short of breath\n",
       "    <span style=\"font-size: 0.8em; font-weight: bold; line-height: 1; border-radius: 0.35em; vertical-align: middle; margin-left: 0.5rem\">SIGN/SYMPTOM</span>\n",
       "</mark>\n",
       ". He reports \n",
       "<mark class=\"entity\" style=\"background: #ff7f0e; padding: 0.45em 0.6em; margin: 0 0.25em; line-height: 1; border-radius: 0.35em;\">\n",
       "    orthopnea\n",
       "    <span style=\"font-size: 0.8em; font-weight: bold; line-height: 1; border-radius: 0.35em; vertical-align: middle; margin-left: 0.5rem\">SIGN/SYMPTOM</span>\n",
       "</mark>\n",
       " but no PND. </br></br>He reports no \n",
       "<mark class=\"entity\" style=\"background: #ff7f0e; padding: 0.45em 0.6em; margin: 0 0.25em; line-height: 1; border-radius: 0.35em;\">\n",
       "    fever\n",
       "    <span style=\"font-size: 0.8em; font-weight: bold; line-height: 1; border-radius: 0.35em; vertical-align: middle; margin-left: 0.5rem\">SIGN/SYMPTOM</span>\n",
       "</mark>\n",
       " or chills, no URI symptoms, no recent travel, no changes </br>in his medications.</br></br>Pt also reports ~5 episodes of \n",
       "<mark class=\"entity\" style=\"background: #ff7f0e; padding: 0.45em 0.6em; margin: 0 0.25em; line-height: 1; border-radius: 0.35em;\">\n",
       "    chest pain\n",
       "    <span style=\"font-size: 0.8em; font-weight: bold; line-height: 1; border-radius: 0.35em; vertical-align: middle; margin-left: 0.5rem\">SIGN/SYMPTOM</span>\n",
       "</mark>\n",
       " in the last few weeks </br>which he describes as pressure on his mid-sternum and usually </br>occurs during exertion.</br></br>Past Medical History:</br>1. \n",
       "<mark class=\"entity\" style=\"background: #1f77b4; padding: 0.45em 0.6em; margin: 0 0.25em; line-height: 1; border-radius: 0.35em;\">\n",
       "    metastatic carcinoid tumor\n",
       "    <span style=\"font-size: 0.8em; font-weight: bold; line-height: 1; border-radius: 0.35em; vertical-align: middle; margin-left: 0.5rem\">DIAGNOSIS</span>\n",
       "</mark>\n",
       ", Dx'ed 2002</br>2. hypertension</br>3. \n",
       "<mark class=\"entity\" style=\"background: #1f77b4; padding: 0.45em 0.6em; margin: 0 0.25em; line-height: 1; border-radius: 0.35em;\">\n",
       "    hyperlipidemia\n",
       "    <span style=\"font-size: 0.8em; font-weight: bold; line-height: 1; border-radius: 0.35em; vertical-align: middle; margin-left: 0.5rem\">DIAGNOSIS</span>\n",
       "</mark>\n",
       "</br>4. carotid endarterectomy 1999</br>5. depression/anxiety</br></br>Social History:</br>Previously \n",
       "<mark class=\"entity\" style=\"background: #9467bd; padding: 0.45em 0.6em; margin: 0 0.25em; line-height: 1; border-radius: 0.35em;\">\n",
       "    homeless\n",
       "    <span style=\"font-size: 0.8em; font-weight: bold; line-height: 1; border-radius: 0.35em; vertical-align: middle; margin-left: 0.5rem\">SOCIAL DETERMINANT</span>\n",
       "</mark>\n",
       ", now lives with \n",
       "<mark class=\"entity\" style=\"background: #9467bd; padding: 0.45em 0.6em; margin: 0 0.25em; line-height: 1; border-radius: 0.35em;\">\n",
       "    two daughters\n",
       "    <span style=\"font-size: 0.8em; font-weight: bold; line-height: 1; border-radius: 0.35em; vertical-align: middle; margin-left: 0.5rem\">SOCIAL DETERMINANT</span>\n",
       "</mark>\n",
       ". Currently \n",
       "<mark class=\"entity\" style=\"background: #9467bd; padding: 0.45em 0.6em; margin: 0 0.25em; line-height: 1; border-radius: 0.35em;\">\n",
       "    employed full-time\n",
       "    <span style=\"font-size: 0.8em; font-weight: bold; line-height: 1; border-radius: 0.35em; vertical-align: middle; margin-left: 0.5rem\">SOCIAL DETERMINANT</span>\n",
       "</mark>\n",
       ".</br></br>Family History:</br>early CAD</br></br>Brief Hospital Course:</br>1. \n",
       "<mark class=\"entity\" style=\"background: #ff7f0e; padding: 0.45em 0.6em; margin: 0 0.25em; line-height: 1; border-radius: 0.35em;\">\n",
       "    SOB\n",
       "    <span style=\"font-size: 0.8em; font-weight: bold; line-height: 1; border-radius: 0.35em; vertical-align: middle; margin-left: 0.5rem\">SIGN/SYMPTOM</span>\n",
       "</mark>\n",
       ": likely from CHF</br>The patient was initially diuresed for mild pulmonary edema: he </br>received \n",
       "<mark class=\"entity\" style=\"background: #2ca02c; padding: 0.45em 0.6em; margin: 0 0.25em; line-height: 1; border-radius: 0.35em;\">\n",
       "    20 IV Lasix\n",
       "    <span style=\"font-size: 0.8em; font-weight: bold; line-height: 1; border-radius: 0.35em; vertical-align: middle; margin-left: 0.5rem\">MEDICATION</span>\n",
       "</mark>\n",
       " on night of admission and \n",
       "<mark class=\"entity\" style=\"background: #2ca02c; padding: 0.45em 0.6em; margin: 0 0.25em; line-height: 1; border-radius: 0.35em;\">\n",
       "    40mg [**9-10**]\n",
       "    <span style=\"font-size: 0.8em; font-weight: bold; line-height: 1; border-radius: 0.35em; vertical-align: middle; margin-left: 0.5rem\">MEDICATION</span>\n",
       "</mark>\n",
       ", with </br>good UOP. On [**9-10**], pt was reporting improvement of symptoms and </br>able to walk around his room with 4L O2 NC. The following day he </br>reported feeling worse, with increasing \n",
       "<mark class=\"entity\" style=\"background: #ff7f0e; padding: 0.45em 0.6em; margin: 0 0.25em; line-height: 1; border-radius: 0.35em;\">\n",
       "    SOB\n",
       "    <span style=\"font-size: 0.8em; font-weight: bold; line-height: 1; border-radius: 0.35em; vertical-align: middle; margin-left: 0.5rem\">SIGN/SYMPTOM</span>\n",
       "</mark>\n",
       ", and was found to </br>now be in oliguric renal failure. \n",
       "<mark class=\"entity\" style=\"background: #d62728; padding: 0.45em 0.6em; margin: 0 0.25em; line-height: 1; border-radius: 0.35em;\">\n",
       "    CXR\n",
       "    <span style=\"font-size: 0.8em; font-weight: bold; line-height: 1; border-radius: 0.35em; vertical-align: middle; margin-left: 0.5rem\">PROCEDURE</span>\n",
       "</mark>\n",
       " [**9-11**] 8am showed showed </br>atelectasis with possible superimposed pneumonia. \n",
       "<mark class=\"entity\" style=\"background: #d62728; padding: 0.45em 0.6em; margin: 0 0.25em; line-height: 1; border-radius: 0.35em;\">\n",
       "    Emergent TTE\n",
       "    <span style=\"font-size: 0.8em; font-weight: bold; line-height: 1; border-radius: 0.35em; vertical-align: middle; margin-left: 0.5rem\">PROCEDURE</span>\n",
       "</mark>\n",
       " </br>showed decreased EF (30%), anteroapical infarct with </br>moderate-to-severe overall left ventricular contractile </br>dysfunction; bicusapid aortic valve with at least mild aortic </br>stenosis. He was sent to the MICU.</br></br>Medications on Admission:</br>\n",
       "<mark class=\"entity\" style=\"background: #2ca02c; padding: 0.45em 0.6em; margin: 0 0.25em; line-height: 1; border-radius: 0.35em;\">\n",
       "    ASA 81mg\n",
       "    <span style=\"font-size: 0.8em; font-weight: bold; line-height: 1; border-radius: 0.35em; vertical-align: middle; margin-left: 0.5rem\">MEDICATION</span>\n",
       "</mark>\n",
       " po qd</br>\n",
       "<mark class=\"entity\" style=\"background: #2ca02c; padding: 0.45em 0.6em; margin: 0 0.25em; line-height: 1; border-radius: 0.35em;\">\n",
       "    Lipitor 20mg\n",
       "    <span style=\"font-size: 0.8em; font-weight: bold; line-height: 1; border-radius: 0.35em; vertical-align: middle; margin-left: 0.5rem\">MEDICATION</span>\n",
       "</mark>\n",
       " po qpm</br></br>Discharge Disposition:</br>Extended Care</br>Discharge Diagnosis:</br>Primary: \n",
       "<mark class=\"entity\" style=\"background: #1f77b4; padding: 0.45em 0.6em; margin: 0 0.25em; line-height: 1; border-radius: 0.35em;\">\n",
       "    congestive heart failure\n",
       "    <span style=\"font-size: 0.8em; font-weight: bold; line-height: 1; border-radius: 0.35em; vertical-align: middle; margin-left: 0.5rem\">DIAGNOSIS</span>\n",
       "</mark>\n",
       "</br>Secondary: \n",
       "<mark class=\"entity\" style=\"background: #1f77b4; padding: 0.45em 0.6em; margin: 0 0.25em; line-height: 1; border-radius: 0.35em;\">\n",
       "    metastatic carcinoid tumor\n",
       "    <span style=\"font-size: 0.8em; font-weight: bold; line-height: 1; border-radius: 0.35em; vertical-align: middle; margin-left: 0.5rem\">DIAGNOSIS</span>\n",
       "</mark>\n",
       ", hypertension, </br>\n",
       "<mark class=\"entity\" style=\"background: #1f77b4; padding: 0.45em 0.6em; margin: 0 0.25em; line-height: 1; border-radius: 0.35em;\">\n",
       "    hyperlipidemia\n",
       "    <span style=\"font-size: 0.8em; font-weight: bold; line-height: 1; border-radius: 0.35em; vertical-align: middle; margin-left: 0.5rem\">DIAGNOSIS</span>\n",
       "</mark>\n",
       ", \n",
       "<mark class=\"entity\" style=\"background: #1f77b4; padding: 0.45em 0.6em; margin: 0 0.25em; line-height: 1; border-radius: 0.35em;\">\n",
       "    diabetes mellitus\n",
       "    <span style=\"font-size: 0.8em; font-weight: bold; line-height: 1; border-radius: 0.35em; vertical-align: middle; margin-left: 0.5rem\">DIAGNOSIS</span>\n",
       "</mark>\n",
       " type 2, basal cell carcinoma</br></br>Discharge Condition:</br>good, stable</br></div></span>"
      ],
      "text/plain": [
       "<IPython.core.display.HTML object>"
      ]
     },
     "metadata": {},
     "output_type": "display_data"
    }
   ],
   "source": [
    "doc = nlp(disch_summ)\n",
    "visualize_ent(doc)"
   ]
  },
  {
   "cell_type": "code",
   "execution_count": 62,
   "id": "7f66bc8f",
   "metadata": {},
   "outputs": [
    {
     "data": {
      "text/plain": [
       "(SOB,\n",
       " DOE,\n",
       " metastatic carcinoid tumor,\n",
       " HTN,\n",
       " hyperlipidemia,\n",
       " SOB,\n",
       " DOE,\n",
       " short of breath,\n",
       " orthopnea,\n",
       " fever,\n",
       " chest pain,\n",
       " metastatic carcinoid tumor,\n",
       " hyperlipidemia,\n",
       " homeless,\n",
       " two daughters,\n",
       " employed full-time,\n",
       " SOB,\n",
       " 20 IV Lasix,\n",
       " 40mg [**9-10**],\n",
       " SOB,\n",
       " CXR,\n",
       " Emergent TTE,\n",
       " ASA 81mg,\n",
       " Lipitor 20mg,\n",
       " congestive heart failure,\n",
       " metastatic carcinoid tumor,\n",
       " hyperlipidemia,\n",
       " diabetes mellitus)"
      ]
     },
     "execution_count": 62,
     "metadata": {},
     "output_type": "execute_result"
    }
   ],
   "source": [
    "doc.ents"
   ]
  },
  {
   "cell_type": "code",
   "execution_count": 66,
   "id": "239c3f8b",
   "metadata": {},
   "outputs": [
    {
     "data": {
      "text/plain": [
       "[]"
      ]
     },
     "execution_count": 66,
     "metadata": {},
     "output_type": "execute_result"
    }
   ],
   "source": [
    "procedures = []\n",
    "procedures"
   ]
  },
  {
   "cell_type": "code",
   "execution_count": 67,
   "id": "993b3b04",
   "metadata": {},
   "outputs": [],
   "source": [
    "for ent in doc.ents:\n",
    "    if ent.label_ == \"PROCEDURE\":\n",
    "        procedures.append(ent)"
   ]
  },
  {
   "cell_type": "code",
   "execution_count": 68,
   "id": "496c015f",
   "metadata": {},
   "outputs": [
    {
     "data": {
      "text/plain": [
       "[CXR, Emergent TTE]"
      ]
     },
     "execution_count": 68,
     "metadata": {},
     "output_type": "execute_result"
    }
   ],
   "source": [
    "procedures"
   ]
  },
  {
   "cell_type": "code",
   "execution_count": null,
   "id": "f6ab7b83",
   "metadata": {},
   "outputs": [],
   "source": []
  }
 ],
 "metadata": {
  "kernelspec": {
   "display_name": "Python 3 (ipykernel)",
   "language": "python",
   "name": "python3"
  },
  "language_info": {
   "codemirror_mode": {
    "name": "ipython",
    "version": 3
   },
   "file_extension": ".py",
   "mimetype": "text/x-python",
   "name": "python",
   "nbconvert_exporter": "python",
   "pygments_lexer": "ipython3",
   "version": "3.9.12"
  }
 },
 "nbformat": 4,
 "nbformat_minor": 5
}
