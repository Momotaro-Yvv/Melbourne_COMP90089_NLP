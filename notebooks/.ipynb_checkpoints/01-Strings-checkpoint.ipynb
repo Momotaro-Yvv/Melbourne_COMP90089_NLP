{
 "cells": [
  {
   "cell_type": "markdown",
   "id": "a96f3930",
   "metadata": {},
   "source": [
    "<html>\n",
    "<table width=\"100%\" cellspacing=\"2\" cellpadding=\"2\" border=\"1\">\n",
    "<tbody>\n",
    "<tr>\n",
    "<td valign=\"center\" align=\"center\" width=\"45%\"><img src=\"../media/Univ-Utah.jpeg\"><br>\n",
    "</td>\n",
    "    <td valign=\"center\" align=\"center\" width=\"75%\">\n",
    "<h1 align=\"center\"><font size=\"+1\">University of Utah<br>Population Health Sciences<br>Data Science Workshop</font></h1></td>\n",
    "<td valign=\"center\" align=\"center\" width=\"45%\"><img\n",
    "src=\"../media/U_Health_stacked_png_red.png\" alt=\"Utah Health\n",
    "Logo\" width=\"128\" height=\"134\"><br>\n",
    "</td>\n",
    "</tr>\n",
    "</tbody>\n",
    "</table>\n",
    "<br>\n",
    "</html>"
   ]
  },
  {
   "cell_type": "code",
   "execution_count": 1,
   "id": "4993c080",
   "metadata": {},
   "outputs": [],
   "source": [
    "from helpers import *"
   ]
  },
  {
   "cell_type": "markdown",
   "id": "a2e07e76",
   "metadata": {},
   "source": [
    "# Text Data in Python\n",
    "As we've seen throughout this workshop, text is represented in Python with **strings**. So far, we've mainly limited our use of strings to short descriptions which represent structured elements. In this module, we'll see how text data plays a large role in medicine and why it's important to be able to analyze text data.\n",
    "\n",
    "In this notebook, we'll dive deeper into working with strings in Python. Then the next few notebooks will demonstrate a set of tools for extracting information from clinical text using Natural Language Processing.\n"
   ]
  },
  {
   "cell_type": "markdown",
   "id": "9e9a11aa",
   "metadata": {},
   "source": [
    "## String methods\n",
    "Strings are defined using quotation marks (single, double, or triple). For example, these are all valid ways of defining strings:"
   ]
  },
  {
   "cell_type": "code",
   "execution_count": 17,
   "id": "a1b0e60c",
   "metadata": {},
   "outputs": [],
   "source": [
    "string1 = 'This is a string'\n",
    "string2 = \"This is also a string.\"\n",
    "\n",
    "text = \"\"\"Chief Complaint:\n",
    "5 days worsening SOB, DOE\"\"\""
   ]
  },
  {
   "cell_type": "code",
   "execution_count": 16,
   "id": "72f27e96",
   "metadata": {},
   "outputs": [
    {
     "data": {
      "text/plain": [
       "'Chief Complaint:\\n5 days worsening SOB, DOE'"
      ]
     },
     "execution_count": 16,
     "metadata": {},
     "output_type": "execute_result"
    }
   ],
   "source": [
    "text"
   ]
  },
  {
   "cell_type": "markdown",
   "id": "deb2a4f9",
   "metadata": {},
   "source": [
    "Let's learn a few methods for dealing with strings data."
   ]
  },
  {
   "cell_type": "markdown",
   "id": "b536ca9f",
   "metadata": {},
   "source": [
    "### Slicing\n",
    "Under the hood, strings act similarly to lists, so we can slice and index them in the same way.\n",
    "\n",
    "To get the number of characters in a string we use the `len` function:"
   ]
  },
  {
   "cell_type": "code",
   "execution_count": 3,
   "id": "060b46e9",
   "metadata": {},
   "outputs": [
    {
     "data": {
      "text/plain": [
       "16"
      ]
     },
     "execution_count": 3,
     "metadata": {},
     "output_type": "execute_result"
    }
   ],
   "source": [
    "len(\"Chief Complaint:\")"
   ]
  },
  {
   "cell_type": "markdown",
   "id": "bee0fa46",
   "metadata": {},
   "source": [
    "We can access individual characters by index (also 0-indexed, like everything in Python):"
   ]
  },
  {
   "cell_type": "code",
   "execution_count": 4,
   "id": "f38a6791",
   "metadata": {},
   "outputs": [
    {
     "data": {
      "text/plain": [
       "'C'"
      ]
     },
     "execution_count": 4,
     "metadata": {},
     "output_type": "execute_result"
    }
   ],
   "source": [
    "text[0]"
   ]
  },
  {
   "cell_type": "code",
   "execution_count": 5,
   "id": "0697efdb",
   "metadata": {},
   "outputs": [
    {
     "data": {
      "text/plain": [
       "'Chief Complaint:'"
      ]
     },
     "execution_count": 5,
     "metadata": {},
     "output_type": "execute_result"
    }
   ],
   "source": [
    "text[:16]"
   ]
  },
  {
   "cell_type": "code",
   "execution_count": 6,
   "id": "d155505f",
   "metadata": {},
   "outputs": [
    {
     "data": {
      "text/plain": [
       "'DO'"
      ]
     },
     "execution_count": 6,
     "metadata": {},
     "output_type": "execute_result"
    }
   ],
   "source": [
    "text[-3:-1]"
   ]
  },
  {
   "cell_type": "code",
   "execution_count": 7,
   "id": "dc2ba01d",
   "metadata": {},
   "outputs": [
    {
     "data": {
      "application/vnd.jupyter.widget-view+json": {
       "model_id": "4fed13b32b094407ae06910078794875",
       "version_major": 2,
       "version_minor": 0
      },
      "text/plain": [
       "VBox(children=(HTML(value='<h4>TODO</h4>Using the variable `text` that we defined above, what would be the val…"
      ]
     },
     "metadata": {},
     "output_type": "display_data"
    },
    {
     "data": {
      "text/plain": []
     },
     "execution_count": 7,
     "metadata": {},
     "output_type": "execute_result"
    }
   ],
   "source": [
    "# RUN CELL TO SEE QUIZ\n",
    "quiz_text_3"
   ]
  },
  {
   "cell_type": "markdown",
   "id": "d4868c11",
   "metadata": {},
   "source": [
    "### Substrings\n",
    "A **substring** is a smaller (or equally-sized) string consisting of consecutive characters within a larger string (or **superstring**). When we slice a string, we get a substring:"
   ]
  },
  {
   "cell_type": "code",
   "execution_count": 10,
   "id": "0d4379a9",
   "metadata": {},
   "outputs": [
    {
     "data": {
      "text/plain": [
       "'Chief'"
      ]
     },
     "execution_count": 10,
     "metadata": {},
     "output_type": "execute_result"
    }
   ],
   "source": [
    "sub_text = text[:5]\n",
    "sub_text"
   ]
  },
  {
   "cell_type": "markdown",
   "id": "15fd4198",
   "metadata": {},
   "source": [
    "We can check whether a string is contained in a superstring by using the `in` keyword:"
   ]
  },
  {
   "cell_type": "code",
   "execution_count": 11,
   "id": "971c8afe",
   "metadata": {},
   "outputs": [
    {
     "data": {
      "text/plain": [
       "True"
      ]
     },
     "execution_count": 11,
     "metadata": {},
     "output_type": "execute_result"
    }
   ],
   "source": [
    "sub_text in text"
   ]
  },
  {
   "cell_type": "markdown",
   "id": "cfb29c16",
   "metadata": {},
   "source": [
    "Strings are case-sensitive, though, so the characters need to match exactly:"
   ]
  },
  {
   "cell_type": "code",
   "execution_count": 12,
   "id": "13136c85",
   "metadata": {},
   "outputs": [
    {
     "data": {
      "text/plain": [
       "False"
      ]
     },
     "execution_count": 12,
     "metadata": {},
     "output_type": "execute_result"
    }
   ],
   "source": [
    "\"chief\" in text"
   ]
  },
  {
   "cell_type": "markdown",
   "id": "26c25be9",
   "metadata": {},
   "source": [
    "### Upper and lower-case\n",
    "Sometimes we want to change the case of a string, or ignore the case altogether. A few methods return a new string with different capitalization.\n",
    "\n",
    "The `text.upper()` returns an all upper-case version of the string, and `text.lower()` returns a lower-case one:"
   ]
  },
  {
   "cell_type": "code",
   "execution_count": 21,
   "id": "7a16e017",
   "metadata": {},
   "outputs": [
    {
     "data": {
      "text/plain": [
       "'CHIEF COMPLAINT:\\n5 DAYS WORSENING SOB, DOE'"
      ]
     },
     "execution_count": 21,
     "metadata": {},
     "output_type": "execute_result"
    }
   ],
   "source": [
    "text.upper()"
   ]
  },
  {
   "cell_type": "code",
   "execution_count": 22,
   "id": "9a2a02e7",
   "metadata": {},
   "outputs": [
    {
     "data": {
      "text/plain": [
       "'chief complaint:\\n5 days worsening sob, doe'"
      ]
     },
     "execution_count": 22,
     "metadata": {},
     "output_type": "execute_result"
    }
   ],
   "source": [
    "text.lower()"
   ]
  },
  {
   "cell_type": "markdown",
   "id": "55a07ac7",
   "metadata": {},
   "source": [
    "Switching to all one case can make it easier to search a text for a string:"
   ]
  },
  {
   "cell_type": "code",
   "execution_count": 23,
   "id": "cf1c5c7d",
   "metadata": {},
   "outputs": [
    {
     "data": {
      "text/plain": [
       "True"
      ]
     },
     "execution_count": 23,
     "metadata": {},
     "output_type": "execute_result"
    }
   ],
   "source": [
    "\"chief\" in text.lower()"
   ]
  },
  {
   "cell_type": "markdown",
   "id": "147a1983",
   "metadata": {},
   "source": [
    "The `title()` method capitalizes the first letter of each word but lower-cases the rest:"
   ]
  },
  {
   "cell_type": "code",
   "execution_count": 24,
   "id": "fbff3100",
   "metadata": {},
   "outputs": [
    {
     "data": {
      "text/plain": [
       "'Chief Complaint:\\n5 Days Worsening Sob, Doe'"
      ]
     },
     "execution_count": 24,
     "metadata": {},
     "output_type": "execute_result"
    }
   ],
   "source": [
    "text.title()"
   ]
  },
  {
   "cell_type": "code",
   "execution_count": null,
   "id": "d1c49268",
   "metadata": {},
   "outputs": [],
   "source": []
  },
  {
   "cell_type": "markdown",
   "id": "7bba8133",
   "metadata": {},
   "source": [
    "### Splitting strings\n",
    "We can split a string into smaller strings whenever a particular character/characters occurs with the `split()` method. This is how **comma-separated files** distinguish between each column:"
   ]
  },
  {
   "cell_type": "code",
   "execution_count": 25,
   "id": "99726976",
   "metadata": {},
   "outputs": [
    {
     "data": {
      "text/plain": [
       "['name', 'age', 'city', 'state']"
      ]
     },
     "execution_count": 25,
     "metadata": {},
     "output_type": "execute_result"
    }
   ],
   "source": [
    "\"name,age,city,state\".split(\",\")"
   ]
  },
  {
   "cell_type": "code",
   "execution_count": 26,
   "id": "b0249c76",
   "metadata": {},
   "outputs": [
    {
     "data": {
      "text/plain": [
       "['alec chapman', '29', 'salt lake city']"
      ]
     },
     "execution_count": 26,
     "metadata": {},
     "output_type": "execute_result"
    }
   ],
   "source": [
    "\"alec chapman,29,salt lake city\".split(\",\")"
   ]
  },
  {
   "cell_type": "markdown",
   "id": "82c80b0e",
   "metadata": {},
   "source": [
    "After splitting a string, we can **unpack it** into distinct values:"
   ]
  },
  {
   "cell_type": "code",
   "execution_count": 27,
   "id": "cb64f6ce",
   "metadata": {},
   "outputs": [
    {
     "name": "stdout",
     "output_type": "stream",
     "text": [
      "alec chapman\n",
      "29\n",
      "salt lake city\n"
     ]
    }
   ],
   "source": [
    "name, age, city = \"alec chapman,29,salt lake city\".split(\",\")\n",
    "print(name)\n",
    "print(age)\n",
    "print(city)"
   ]
  },
  {
   "cell_type": "markdown",
   "id": "8fecf399",
   "metadata": {},
   "source": [
    "But be careful - if one of the elements actually contains a comma, it will split in a way you might not expect:"
   ]
  },
  {
   "cell_type": "code",
   "execution_count": 28,
   "id": "8a58c407",
   "metadata": {},
   "outputs": [
    {
     "data": {
      "text/plain": [
       "['alec chapman', '29', 'salt lake city', ' utah']"
      ]
     },
     "execution_count": 28,
     "metadata": {},
     "output_type": "execute_result"
    }
   ],
   "source": [
    "\"alec chapman,29,salt lake city, utah\".split(\",\")"
   ]
  },
  {
   "cell_type": "code",
   "execution_count": 29,
   "id": "599fd2a6",
   "metadata": {},
   "outputs": [
    {
     "ename": "ValueError",
     "evalue": "too many values to unpack (expected 3)",
     "output_type": "error",
     "traceback": [
      "\u001b[0;31m---------------------------------------------------------------------------\u001b[0m",
      "\u001b[0;31mValueError\u001b[0m                                Traceback (most recent call last)",
      "Input \u001b[0;32mIn [29]\u001b[0m, in \u001b[0;36m<cell line: 2>\u001b[0;34m()\u001b[0m\n\u001b[1;32m      1\u001b[0m \u001b[38;5;66;03m# Throws an error\u001b[39;00m\n\u001b[0;32m----> 2\u001b[0m name, age, city \u001b[38;5;241m=\u001b[39m \u001b[38;5;124m\"\u001b[39m\u001b[38;5;124malec chapman,29,salt lake city, ut\u001b[39m\u001b[38;5;124m\"\u001b[39m\u001b[38;5;241m.\u001b[39msplit(\u001b[38;5;124m\"\u001b[39m\u001b[38;5;124m,\u001b[39m\u001b[38;5;124m\"\u001b[39m)\n",
      "\u001b[0;31mValueError\u001b[0m: too many values to unpack (expected 3)"
     ]
    }
   ],
   "source": [
    "# Throws an error\n",
    "name, age, city = \"alec chapman,29,salt lake city, ut\".split(\",\")"
   ]
  },
  {
   "cell_type": "markdown",
   "id": "036f4f7d",
   "metadata": {},
   "source": [
    "You can split by any character. Splitting by *whitespaces* is a simple way to break a string up into individual words (but do you see any problems with this?)"
   ]
  },
  {
   "cell_type": "code",
   "execution_count": 30,
   "id": "aae463b5",
   "metadata": {},
   "outputs": [
    {
     "data": {
      "text/plain": [
       "['This', 'is', 'a', 'sentence.']"
      ]
     },
     "execution_count": 30,
     "metadata": {},
     "output_type": "execute_result"
    }
   ],
   "source": [
    "\"This is a sentence.\".split(\" \")"
   ]
  },
  {
   "cell_type": "code",
   "execution_count": 33,
   "id": "d592dada",
   "metadata": {},
   "outputs": [
    {
     "data": {
      "text/plain": [
       "['name', 'age']"
      ]
     },
     "execution_count": 33,
     "metadata": {},
     "output_type": "execute_result"
    }
   ],
   "source": [
    "\"name\\tage\".split(\"\\t\")"
   ]
  },
  {
   "cell_type": "markdown",
   "id": "b97faea7",
   "metadata": {},
   "source": [
    "#### TODO\n",
    "An **empty string** is a string without any characters:\n",
    "\n",
    "`\"\"`"
   ]
  },
  {
   "cell_type": "code",
   "execution_count": 31,
   "id": "19adb0f6",
   "metadata": {},
   "outputs": [
    {
     "data": {
      "application/vnd.jupyter.widget-view+json": {
       "model_id": "f4291ef819414c40932c119b2d2a3df5",
       "version_major": 2,
       "version_minor": 0
      },
      "text/plain": [
       "VBox(children=(HTML(value='What value would be generated by the following code:</br><p style=\"font-family:cour…"
      ]
     },
     "metadata": {},
     "output_type": "display_data"
    },
    {
     "data": {
      "text/plain": []
     },
     "execution_count": 31,
     "metadata": {},
     "output_type": "execute_result"
    }
   ],
   "source": [
    "# RUN CELL TO SEE QUIZ\n",
    "quiz_len_empty"
   ]
  },
  {
   "cell_type": "code",
   "execution_count": 32,
   "id": "6b9a0c2c",
   "metadata": {},
   "outputs": [
    {
     "data": {
      "application/vnd.jupyter.widget-view+json": {
       "model_id": "a54e9244d6e9447fb911f2fd7c359784",
       "version_major": 2,
       "version_minor": 0
      },
      "text/plain": [
       "VBox(children=(HTML(value='What would happen if you split the string `\"pna\"` on an empty string?'), RadioButto…"
      ]
     },
     "metadata": {},
     "output_type": "display_data"
    },
    {
     "data": {
      "text/plain": []
     },
     "execution_count": 32,
     "metadata": {},
     "output_type": "execute_result"
    }
   ],
   "source": [
    "# RUN CELL TO SEE QUIZ\n",
    "quiz_split_pna_empty"
   ]
  },
  {
   "cell_type": "code",
   "execution_count": null,
   "id": "66c50499",
   "metadata": {},
   "outputs": [],
   "source": []
  },
  {
   "cell_type": "markdown",
   "id": "82051f4d",
   "metadata": {},
   "source": [
    "### Joining strings\n",
    "The inverse of *splitting* strings is *joining* strings. We saw in the first notebook how to **concatenate** two strings together to create a larger string:"
   ]
  },
  {
   "cell_type": "code",
   "execution_count": 34,
   "id": "8f3a61d8",
   "metadata": {},
   "outputs": [
    {
     "data": {
      "text/plain": [
       "'Chief complaint'"
      ]
     },
     "execution_count": 34,
     "metadata": {},
     "output_type": "execute_result"
    }
   ],
   "source": [
    "\"Chief\" + \" \" + \"complaint\""
   ]
  },
  {
   "cell_type": "markdown",
   "id": "c6a97791",
   "metadata": {},
   "source": [
    "We can take a list of strings and create a string with all of them joined by some character (or multiple characters):"
   ]
  },
  {
   "cell_type": "code",
   "execution_count": 35,
   "id": "8e1970a0",
   "metadata": {},
   "outputs": [
    {
     "data": {
      "text/plain": [
       "'Chief complaint: 5 days worsening SOB DOE'"
      ]
     },
     "execution_count": 35,
     "metadata": {},
     "output_type": "execute_result"
    }
   ],
   "source": [
    "\" \".join([\"Chief\", \"complaint:\", \"5\", \"days\", \"worsening\", \"SOB\", \"DOE\"])"
   ]
  },
  {
   "cell_type": "code",
   "execution_count": 36,
   "id": "f977255e",
   "metadata": {},
   "outputs": [
    {
     "data": {
      "text/plain": [
       "'This...feels...very...passive...aggressive...'"
      ]
     },
     "execution_count": 36,
     "metadata": {},
     "output_type": "execute_result"
    }
   ],
   "source": [
    "\"...\".join([\"This\", \"feels\", \"very\", \"passive\", \"aggressive\", \"\"])"
   ]
  },
  {
   "cell_type": "code",
   "execution_count": null,
   "id": "6dd68140",
   "metadata": {},
   "outputs": [],
   "source": []
  },
  {
   "cell_type": "markdown",
   "id": "a544ef9a",
   "metadata": {},
   "source": [
    "### String formatting\n",
    "Sometimes we want to use \"template\" texts and fill in values based on variable. For example, way back in the first notebook we had a function called `print_name` which would create and print a string based on the function arguments. **String formatting** is a nice way to do this. For example, one way to do this is using so-called `f-strings`, which are denoted with an `f` at the beginning of the string and then contain variable names in curly brackets `{}`."
   ]
  },
  {
   "cell_type": "code",
   "execution_count": 42,
   "id": "b371741a",
   "metadata": {},
   "outputs": [
    {
     "name": "stdout",
     "output_type": "stream",
     "text": [
      "My name is Alec Chapman\n"
     ]
    }
   ],
   "source": [
    "first = \"Alec\"\n",
    "last = \"Chapman\"\n",
    "print(f\"My name is {first} {last}\")"
   ]
  },
  {
   "cell_type": "markdown",
   "id": "fc436995",
   "metadata": {},
   "source": [
    "You can also use the string method `.format()`:"
   ]
  },
  {
   "cell_type": "code",
   "execution_count": 40,
   "id": "2c2589ea",
   "metadata": {},
   "outputs": [
    {
     "name": "stdout",
     "output_type": "stream",
     "text": [
      "My name is Alec Chapman\n"
     ]
    }
   ],
   "source": [
    "print(\"My name is {} {}\".format(\"Alec\", \"Chapman\"))"
   ]
  },
  {
   "cell_type": "markdown",
   "id": "35ab3459",
   "metadata": {},
   "source": [
    "## Practice with strings"
   ]
  },
  {
   "cell_type": "markdown",
   "id": "81f18a82",
   "metadata": {},
   "source": [
    "### 1.\n",
    "In NLP, **tokenization** is the process of splitting a text into individual words. It can be informative to see which unique words appear in a document. Split `disch_summ` into tokens and then create an object containing unique tokens. As an optional next step, count how many times each token appears."
   ]
  },
  {
   "cell_type": "code",
   "execution_count": 43,
   "id": "e9cc18ec",
   "metadata": {},
   "outputs": [
    {
     "data": {
      "application/vnd.jupyter.widget-view+json": {
       "model_id": "c77bdc0f23d7471fa459a5888f219b55",
       "version_major": 2,
       "version_minor": 0
      },
      "text/plain": [
       "VBox(children=(HTML(value='</br><strong>Displaying hint 0/2</strong>'), Output(), Button(description='Get hint…"
      ]
     },
     "metadata": {},
     "output_type": "display_data"
    },
    {
     "data": {
      "text/plain": []
     },
     "execution_count": 43,
     "metadata": {},
     "output_type": "execute_result"
    }
   ],
   "source": [
    "# RUN CELL TO SEE HINT\n",
    "hint_tokenize_disch_summ "
   ]
  },
  {
   "cell_type": "code",
   "execution_count": 53,
   "id": "ec3b4b1b",
   "metadata": {},
   "outputs": [
    {
     "data": {
      "text/plain": [
       "Counter({'\\nservice:': 1,\n",
       "         'medicine\\n\\nchief': 1,\n",
       "         'complaint:\\n5': 1,\n",
       "         'days': 1,\n",
       "         'worsening': 2,\n",
       "         'sob,': 2,\n",
       "         'doe\\n\\nhistory': 1,\n",
       "         'of': 6,\n",
       "         'present': 1,\n",
       "         'illness:\\npt': 1,\n",
       "         'is': 1,\n",
       "         'a': 2,\n",
       "         '63m': 1,\n",
       "         'w/': 1,\n",
       "         'h/o': 1,\n",
       "         'metastatic': 3,\n",
       "         'carcinoid': 3,\n",
       "         'tumor,': 3,\n",
       "         'htn,': 1,\n",
       "         '\\nhyperlipidemia': 1,\n",
       "         'who': 1,\n",
       "         'reports': 4,\n",
       "         'increasing': 2,\n",
       "         'sob': 1,\n",
       "         'and': 5,\n",
       "         'doe': 1,\n",
       "         'starting': 1,\n",
       "         'about': 1,\n",
       "         '\\na': 1,\n",
       "         'month': 1,\n",
       "         'ago': 1,\n",
       "         'but': 2,\n",
       "         'significantly': 1,\n",
       "         'within': 1,\n",
       "         'the': 4,\n",
       "         'last': 2,\n",
       "         '5': 1,\n",
       "         'days.': 1,\n",
       "         '\\nit': 1,\n",
       "         'has': 1,\n",
       "         'recently': 1,\n",
       "         'gotten': 1,\n",
       "         'so': 1,\n",
       "         'bad': 1,\n",
       "         'he': 6,\n",
       "         'can': 1,\n",
       "         'barely': 1,\n",
       "         'get': 1,\n",
       "         'up': 1,\n",
       "         'out': 1,\n",
       "         '\\nchair': 1,\n",
       "         'without': 1,\n",
       "         'getting': 1,\n",
       "         'short': 1,\n",
       "         'breath.': 1,\n",
       "         'orthopnea': 1,\n",
       "         'no': 5,\n",
       "         'pnd.': 1,\n",
       "         '\\n\\nhe': 1,\n",
       "         'fever': 1,\n",
       "         'or': 1,\n",
       "         'chills,': 1,\n",
       "         'uri': 1,\n",
       "         'symptoms,': 1,\n",
       "         'recent': 1,\n",
       "         'travel,': 1,\n",
       "         'changes': 1,\n",
       "         '\\nin': 1,\n",
       "         'his': 3,\n",
       "         'medications.\\n\\npt': 1,\n",
       "         'also': 1,\n",
       "         '~5': 1,\n",
       "         'episodes': 1,\n",
       "         'chest': 1,\n",
       "         'pain': 1,\n",
       "         'in': 2,\n",
       "         'few': 1,\n",
       "         'weeks': 1,\n",
       "         '\\nwhich': 1,\n",
       "         'describes': 1,\n",
       "         'as': 1,\n",
       "         'pressure': 1,\n",
       "         'on': 4,\n",
       "         'mid-sternum': 1,\n",
       "         'usually': 1,\n",
       "         '\\noccurs': 1,\n",
       "         'during': 1,\n",
       "         'exertion.\\n\\npast': 1,\n",
       "         'medical': 1,\n",
       "         'history:\\n1.': 1,\n",
       "         \"dx'ed\": 1,\n",
       "         '2002\\n2.': 1,\n",
       "         'hypertension\\n3.': 1,\n",
       "         'hyperlipidemia\\n4.': 1,\n",
       "         'carotid': 1,\n",
       "         'endarterectomy': 1,\n",
       "         '1999\\n5.': 1,\n",
       "         'depression/anxiety\\n\\nsocial': 1,\n",
       "         'history:\\npreviously': 1,\n",
       "         'homeless,': 1,\n",
       "         'now': 1,\n",
       "         'lives': 1,\n",
       "         'with': 7,\n",
       "         'two': 1,\n",
       "         'daughters.': 1,\n",
       "         'currently': 1,\n",
       "         'employed': 1,\n",
       "         'full-time.\\n\\nfamily': 1,\n",
       "         'history:\\nearly': 1,\n",
       "         'cad\\n\\nbrief': 1,\n",
       "         'hospital': 1,\n",
       "         'course:\\n1.': 1,\n",
       "         'sob:': 1,\n",
       "         'likely': 1,\n",
       "         'from': 1,\n",
       "         'chf\\nthe': 1,\n",
       "         'patient': 1,\n",
       "         'was': 4,\n",
       "         'initially': 1,\n",
       "         'diuresed': 1,\n",
       "         'for': 1,\n",
       "         'mild': 2,\n",
       "         'pulmonary': 1,\n",
       "         'edema:': 1,\n",
       "         '\\nreceived': 1,\n",
       "         '20': 1,\n",
       "         'iv': 1,\n",
       "         'lasix': 1,\n",
       "         'night': 1,\n",
       "         'admission': 1,\n",
       "         '40mg': 1,\n",
       "         '[**9-10**],': 2,\n",
       "         '\\ngood': 1,\n",
       "         'uop.': 1,\n",
       "         'pt': 1,\n",
       "         'reporting': 1,\n",
       "         'improvement': 1,\n",
       "         'symptoms': 1,\n",
       "         '\\nable': 1,\n",
       "         'to': 3,\n",
       "         'walk': 1,\n",
       "         'around': 1,\n",
       "         'room': 1,\n",
       "         '4l': 1,\n",
       "         'o2': 1,\n",
       "         'nc.': 1,\n",
       "         'following': 1,\n",
       "         'day': 1,\n",
       "         '\\nreported': 1,\n",
       "         'feeling': 1,\n",
       "         'worse,': 1,\n",
       "         'found': 1,\n",
       "         '\\nnow': 1,\n",
       "         'be': 1,\n",
       "         'oliguric': 1,\n",
       "         'renal': 1,\n",
       "         'failure.': 1,\n",
       "         'cxr': 1,\n",
       "         '[**9-11**]': 1,\n",
       "         '8am': 1,\n",
       "         'showed': 2,\n",
       "         '\\natelectasis': 1,\n",
       "         'possible': 1,\n",
       "         'superimposed': 1,\n",
       "         'pneumonia.': 1,\n",
       "         'emergent': 1,\n",
       "         'tte': 1,\n",
       "         '\\nshowed': 1,\n",
       "         'decreased': 1,\n",
       "         'ef': 1,\n",
       "         '(30%),': 1,\n",
       "         'anteroapical': 1,\n",
       "         'infarct': 1,\n",
       "         '\\nmoderate-to-severe': 1,\n",
       "         'overall': 1,\n",
       "         'left': 1,\n",
       "         'ventricular': 1,\n",
       "         'contractile': 1,\n",
       "         '\\ndysfunction;': 1,\n",
       "         'bicusapid': 1,\n",
       "         'aortic': 2,\n",
       "         'valve': 1,\n",
       "         'at': 1,\n",
       "         'least': 1,\n",
       "         '\\nstenosis.': 1,\n",
       "         'sent': 1,\n",
       "         'micu.\\n\\nmedications': 1,\n",
       "         'admission:\\nasa': 1,\n",
       "         '81mg': 1,\n",
       "         'po': 2,\n",
       "         'qd\\nlipitor': 1,\n",
       "         '20mg': 1,\n",
       "         'qpm\\n\\ndischarge': 1,\n",
       "         'disposition:\\nextended': 1,\n",
       "         'care\\ndischarge': 1,\n",
       "         'diagnosis:\\nprimary:': 1,\n",
       "         'congestive': 1,\n",
       "         'heart': 1,\n",
       "         'failure\\nsecondary:': 1,\n",
       "         'hypertension,': 1,\n",
       "         '\\nhyperlipidemia,': 1,\n",
       "         'diabetes': 1,\n",
       "         'mellitus': 1,\n",
       "         'type': 1,\n",
       "         '2,': 1,\n",
       "         'basal': 1,\n",
       "         'cell': 1,\n",
       "         'carcinoma\\n\\ndischarge': 1,\n",
       "         'condition:\\ngood,': 1,\n",
       "         'stable\\n': 1})"
      ]
     },
     "execution_count": 53,
     "metadata": {},
     "output_type": "execute_result"
    }
   ],
   "source": [
    "from collections import Counter\n",
    "\n",
    "Counter(disch_summ.lower().split(\" \"))"
   ]
  },
  {
   "cell_type": "code",
   "execution_count": 52,
   "id": "ab33c6d5",
   "metadata": {},
   "outputs": [
    {
     "data": {
      "text/plain": [
       "{'\\n\\nhe',\n",
       " '\\na',\n",
       " '\\nable',\n",
       " '\\natelectasis',\n",
       " '\\nchair',\n",
       " '\\ndysfunction;',\n",
       " '\\ngood',\n",
       " '\\nhyperlipidemia',\n",
       " '\\nhyperlipidemia,',\n",
       " '\\nin',\n",
       " '\\nit',\n",
       " '\\nmoderate-to-severe',\n",
       " '\\nnow',\n",
       " '\\noccurs',\n",
       " '\\nreceived',\n",
       " '\\nreported',\n",
       " '\\nservice:',\n",
       " '\\nshowed',\n",
       " '\\nstenosis.',\n",
       " '\\nwhich',\n",
       " '(30%),',\n",
       " '1999\\n5.',\n",
       " '2,',\n",
       " '20',\n",
       " '2002\\n2.',\n",
       " '20mg',\n",
       " '40mg',\n",
       " '4l',\n",
       " '5',\n",
       " '63m',\n",
       " '81mg',\n",
       " '8am',\n",
       " '[**9-10**],',\n",
       " '[**9-11**]',\n",
       " 'a',\n",
       " 'about',\n",
       " 'admission',\n",
       " 'admission:\\nasa',\n",
       " 'ago',\n",
       " 'also',\n",
       " 'and',\n",
       " 'anteroapical',\n",
       " 'aortic',\n",
       " 'around',\n",
       " 'as',\n",
       " 'at',\n",
       " 'bad',\n",
       " 'barely',\n",
       " 'basal',\n",
       " 'be',\n",
       " 'bicusapid',\n",
       " 'breath.',\n",
       " 'but',\n",
       " 'cad\\n\\nbrief',\n",
       " 'can',\n",
       " 'carcinoid',\n",
       " 'carcinoma\\n\\ndischarge',\n",
       " 'care\\ndischarge',\n",
       " 'carotid',\n",
       " 'cell',\n",
       " 'changes',\n",
       " 'chest',\n",
       " 'chf\\nthe',\n",
       " 'chills,',\n",
       " 'complaint:\\n5',\n",
       " 'condition:\\ngood,',\n",
       " 'congestive',\n",
       " 'contractile',\n",
       " 'course:\\n1.',\n",
       " 'currently',\n",
       " 'cxr',\n",
       " 'daughters.',\n",
       " 'day',\n",
       " 'days',\n",
       " 'days.',\n",
       " 'decreased',\n",
       " 'depression/anxiety\\n\\nsocial',\n",
       " 'describes',\n",
       " 'diabetes',\n",
       " 'diagnosis:\\nprimary:',\n",
       " 'disposition:\\nextended',\n",
       " 'diuresed',\n",
       " 'doe',\n",
       " 'doe\\n\\nhistory',\n",
       " 'during',\n",
       " \"dx'ed\",\n",
       " 'edema:',\n",
       " 'ef',\n",
       " 'emergent',\n",
       " 'employed',\n",
       " 'endarterectomy',\n",
       " 'episodes',\n",
       " 'exertion.\\n\\npast',\n",
       " 'failure\\nsecondary:',\n",
       " 'failure.',\n",
       " 'feeling',\n",
       " 'fever',\n",
       " 'few',\n",
       " 'following',\n",
       " 'for',\n",
       " 'found',\n",
       " 'from',\n",
       " 'full-time.\\n\\nfamily',\n",
       " 'get',\n",
       " 'getting',\n",
       " 'gotten',\n",
       " 'h/o',\n",
       " 'has',\n",
       " 'he',\n",
       " 'heart',\n",
       " 'his',\n",
       " 'history:\\n1.',\n",
       " 'history:\\nearly',\n",
       " 'history:\\npreviously',\n",
       " 'homeless,',\n",
       " 'hospital',\n",
       " 'htn,',\n",
       " 'hyperlipidemia\\n4.',\n",
       " 'hypertension\\n3.',\n",
       " 'hypertension,',\n",
       " 'illness:\\npt',\n",
       " 'improvement',\n",
       " 'in',\n",
       " 'increasing',\n",
       " 'infarct',\n",
       " 'initially',\n",
       " 'is',\n",
       " 'iv',\n",
       " 'lasix',\n",
       " 'last',\n",
       " 'least',\n",
       " 'left',\n",
       " 'likely',\n",
       " 'lives',\n",
       " 'medical',\n",
       " 'medications.\\n\\npt',\n",
       " 'medicine\\n\\nchief',\n",
       " 'mellitus',\n",
       " 'metastatic',\n",
       " 'micu.\\n\\nmedications',\n",
       " 'mid-sternum',\n",
       " 'mild',\n",
       " 'month',\n",
       " 'nc.',\n",
       " 'night',\n",
       " 'no',\n",
       " 'now',\n",
       " 'o2',\n",
       " 'of',\n",
       " 'oliguric',\n",
       " 'on',\n",
       " 'or',\n",
       " 'orthopnea',\n",
       " 'out',\n",
       " 'overall',\n",
       " 'pain',\n",
       " 'patient',\n",
       " 'pnd.',\n",
       " 'pneumonia.',\n",
       " 'po',\n",
       " 'possible',\n",
       " 'present',\n",
       " 'pressure',\n",
       " 'pt',\n",
       " 'pulmonary',\n",
       " 'qd\\nlipitor',\n",
       " 'qpm\\n\\ndischarge',\n",
       " 'recent',\n",
       " 'recently',\n",
       " 'renal',\n",
       " 'reporting',\n",
       " 'reports',\n",
       " 'room',\n",
       " 'sent',\n",
       " 'short',\n",
       " 'showed',\n",
       " 'significantly',\n",
       " 'so',\n",
       " 'sob',\n",
       " 'sob,',\n",
       " 'sob:',\n",
       " 'stable\\n',\n",
       " 'starting',\n",
       " 'superimposed',\n",
       " 'symptoms',\n",
       " 'symptoms,',\n",
       " 'the',\n",
       " 'to',\n",
       " 'travel,',\n",
       " 'tte',\n",
       " 'tumor,',\n",
       " 'two',\n",
       " 'type',\n",
       " 'uop.',\n",
       " 'up',\n",
       " 'uri',\n",
       " 'usually',\n",
       " 'valve',\n",
       " 'ventricular',\n",
       " 'w/',\n",
       " 'walk',\n",
       " 'was',\n",
       " 'weeks',\n",
       " 'who',\n",
       " 'with',\n",
       " 'within',\n",
       " 'without',\n",
       " 'worse,',\n",
       " 'worsening',\n",
       " '~5'}"
      ]
     },
     "execution_count": 52,
     "metadata": {},
     "output_type": "execute_result"
    }
   ],
   "source": [
    "set(disch_summ.lower().split(\" \"))"
   ]
  },
  {
   "cell_type": "code",
   "execution_count": null,
   "id": "4bf9f0bc",
   "metadata": {},
   "outputs": [],
   "source": []
  },
  {
   "cell_type": "markdown",
   "id": "d32bdd37",
   "metadata": {},
   "source": [
    "### 2.\n",
    "Clinical notes are often structured with different *sections* which describe different parts of a patient's care. You can often recognize a new section by a title followed by a new line:\n",
    "\n",
    "```\n",
    "History of Present Illness:\n",
    "The pt is a 63M w...\n",
    "```\n",
    "\n",
    "Each of the texts below come from different sections of a clinical note. Write a function called `get_section_name` which takes a text and returns the name of the section. The expected values are written as comments. Test it on the three strings below. Note that the character `\"\\n\"` indicates a new line."
   ]
  },
  {
   "cell_type": "code",
   "execution_count": 54,
   "id": "931805a1",
   "metadata": {},
   "outputs": [],
   "source": [
    "texts = [\n",
    "    \"Chief Complaint:\\n5 days worsening SOB, DOE\", # \"Chief Complaint\"\n",
    "    \"History of Present Illness:\\nPt is a 63M w/ h/o metastatic carcinoid tumor.\", # \"History of Present Illness\"\n",
    "    \"Social History:\\nLives alone with two daughters.\" # \"Social History\"\n",
    "]"
   ]
  },
  {
   "cell_type": "code",
   "execution_count": 63,
   "id": "9329c906",
   "metadata": {},
   "outputs": [],
   "source": [
    "# Define a function called get_section_name\n",
    "def get_section_name(text):\n",
    "    return text.split(\":\")[0]\n"
   ]
  },
  {
   "cell_type": "code",
   "execution_count": 64,
   "id": "98f819c9",
   "metadata": {},
   "outputs": [
    {
     "name": "stdout",
     "output_type": "stream",
     "text": [
      "That is correct!\n"
     ]
    }
   ],
   "source": [
    "# RUN CELL TO TEST FUNCTION\n",
    "test_get_section_name.test(get_section_name)"
   ]
  },
  {
   "cell_type": "code",
   "execution_count": 65,
   "id": "299bd26d",
   "metadata": {},
   "outputs": [
    {
     "data": {
      "text/plain": [
       "'Social History'"
      ]
     },
     "execution_count": 65,
     "metadata": {},
     "output_type": "execute_result"
    }
   ],
   "source": [
    "get_section_name(texts[2])"
   ]
  },
  {
   "cell_type": "markdown",
   "id": "94c24953",
   "metadata": {},
   "source": [
    "### 3.\n",
    "Write a function called `pneumonia_in_text` which checks if a string contains *\"pneumonia\"* or the abbreviation *\"pna\"* is in a string. Test it on the following strings:\n"
   ]
  },
  {
   "cell_type": "code",
   "execution_count": 66,
   "id": "d52d3acd",
   "metadata": {},
   "outputs": [],
   "source": [
    "pna_strings = [\n",
    "    \"The patient has pneumonia.\",\n",
    "    \"INDICATION: EVALUATE FOR PNEUMONIA\",\n",
    "    \"Patient shows symptoms concerning for pna.\",\n",
    "    \"The chest image found no evidence of pna\",\n",
    "]"
   ]
  },
  {
   "cell_type": "code",
   "execution_count": 77,
   "id": "ce9cc737",
   "metadata": {},
   "outputs": [],
   "source": [
    "def pneumonia_in_text(text):\n",
    "    text = text.lower()\n",
    "    return ((\"pneumonia\" in text) or (\"pna\" in text))"
   ]
  },
  {
   "cell_type": "code",
   "execution_count": null,
   "id": "23c121a5",
   "metadata": {},
   "outputs": [],
   "source": []
  },
  {
   "cell_type": "code",
   "execution_count": 74,
   "id": "17f5eb64",
   "metadata": {},
   "outputs": [
    {
     "name": "stdout",
     "output_type": "stream",
     "text": [
      "That is correct!\n"
     ]
    }
   ],
   "source": [
    "# RUN CELL TO TEST FUNCTION\n",
    "test_pneumonia_in_text.test(pneumonia_in_text)"
   ]
  },
  {
   "cell_type": "code",
   "execution_count": 75,
   "id": "b73c86ee",
   "metadata": {},
   "outputs": [
    {
     "data": {
      "application/vnd.jupyter.widget-view+json": {
       "model_id": "297263ab61c54a1483e7d5783d88e18a",
       "version_major": 2,
       "version_minor": 0
      },
      "text/plain": [
       "VBox(children=(HTML(value='If the function above returns True, that means the note indicates the patient has p…"
      ]
     },
     "metadata": {},
     "output_type": "display_data"
    },
    {
     "data": {
      "text/plain": []
     },
     "execution_count": 75,
     "metadata": {},
     "output_type": "execute_result"
    }
   ],
   "source": [
    "# RUN CELL TO SEE QUIZ\n",
    "quiz_mc_pneumonia_in_text"
   ]
  },
  {
   "cell_type": "code",
   "execution_count": null,
   "id": "94284f0b",
   "metadata": {},
   "outputs": [],
   "source": []
  },
  {
   "cell_type": "markdown",
   "id": "3d4e717d",
   "metadata": {},
   "source": [
    "### 4.\n",
    "Edit the code below so that the function which generates a string which gives the patient's name, age, and chief complaint based on the argument values."
   ]
  },
  {
   "cell_type": "code",
   "execution_count": 76,
   "id": "1a0fc782",
   "metadata": {},
   "outputs": [
    {
     "data": {
      "application/vnd.jupyter.widget-view+json": {
       "model_id": "955322920adf402cb398975f36ef98b6",
       "version_major": 2,
       "version_minor": 0
      },
      "text/plain": [
       "VBox(children=(HTML(value='</br><strong>Displaying hint 0/1</strong>'), Output(), Button(description='Get hint…"
      ]
     },
     "metadata": {},
     "output_type": "display_data"
    },
    {
     "data": {
      "text/plain": []
     },
     "execution_count": 76,
     "metadata": {},
     "output_type": "execute_result"
    }
   ],
   "source": [
    "# RUN CELL TO SEE QUIZ\n",
    "hint_generate_chief_complaint"
   ]
  },
  {
   "cell_type": "code",
   "execution_count": null,
   "id": "85e97797",
   "metadata": {},
   "outputs": [],
   "source": [
    "def generate_chief_complaint(name, age, chief_complaint):\n",
    "    text = \"Alec Chapman is a 29-year-old patient who presents today with a broken arm.\"\n",
    "    return text"
   ]
  },
  {
   "cell_type": "code",
   "execution_count": null,
   "id": "1c3b323f",
   "metadata": {},
   "outputs": [],
   "source": [
    "# Each line should print a different value\n",
    "print(generate_chief_complaint(\"Alec Chapman\", \"29\", \"a broken arm\"))\n",
    "print(generate_chief_complaint(\"John Doe\", \"41\", \"cough and fever.\"))\n",
    "print(generate_chief_complaint(\"Jane Doe\", \"61\", \"symptoms concerning for pneumonia.\"))"
   ]
  },
  {
   "cell_type": "code",
   "execution_count": null,
   "id": "931748a7",
   "metadata": {},
   "outputs": [],
   "source": []
  }
 ],
 "metadata": {
  "kernelspec": {
   "display_name": "Python 3 (ipykernel)",
   "language": "python",
   "name": "python3"
  },
  "language_info": {
   "codemirror_mode": {
    "name": "ipython",
    "version": 3
   },
   "file_extension": ".py",
   "mimetype": "text/x-python",
   "name": "python",
   "nbconvert_exporter": "python",
   "pygments_lexer": "ipython3",
   "version": "3.9.12"
  }
 },
 "nbformat": 4,
 "nbformat_minor": 5
}
