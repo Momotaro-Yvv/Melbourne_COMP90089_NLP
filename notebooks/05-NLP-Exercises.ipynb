{
 "cells": [
  {
   "cell_type": "markdown",
   "id": "f866af57",
   "metadata": {},
   "source": [
    "<html>\n",
    "<table width=\"100%\" cellspacing=\"2\" cellpadding=\"2\" border=\"1\">\n",
    "<tbody>\n",
    "<tr>\n",
    "<td valign=\"center\" align=\"center\" width=\"45%\"><img src=\"../media/Univ-Utah.jpeg\"><br>\n",
    "</td>\n",
    "    <td valign=\"center\" align=\"center\" width=\"75%\">\n",
    "<h1 align=\"center\"><font size=\"+1\">University of Utah<br>Population Health Sciences<br>Data Science Workshop</font></h1></td>\n",
    "<td valign=\"center\" align=\"center\" width=\"45%\"><img\n",
    "src=\"../media/U_Health_stacked_png_red.png\" alt=\"Utah Health\n",
    "Logo\" width=\"128\" height=\"134\"><br>\n",
    "</td>\n",
    "</tr>\n",
    "</tbody>\n",
    "</table>\n",
    "<br>\n",
    "</html>"
   ]
  },
  {
   "cell_type": "code",
   "execution_count": 2,
   "id": "02047c92",
   "metadata": {},
   "outputs": [],
   "source": [
    "# from helpers import *\n",
    "import medspacy\n",
    "import pandas as pd\n",
    "\n",
    "from medspacy.visualization import visualize_dep, visualize_ent, MedspaCyVisualizerWidget"
   ]
  },
  {
   "cell_type": "code",
   "execution_count": 3,
   "id": "7326be54",
   "metadata": {},
   "outputs": [],
   "source": [
    "import warnings\n",
    "warnings.filterwarnings(\"ignore\") "
   ]
  },
  {
   "cell_type": "markdown",
   "id": "14c3011b",
   "metadata": {},
   "source": [
    "# NLP Exercises\n",
    "The last few notebooks stepped through the major parts of a clinical NLP system. In this notebook you'll build a complete system for identifying [pneumonia](https://en.wikipedia.org/wiki/Pneumonia) in radiology reports."
   ]
  },
  {
   "cell_type": "code",
   "execution_count": null,
   "id": "fad5fa1f",
   "metadata": {},
   "outputs": [],
   "source": []
  },
  {
   "cell_type": "markdown",
   "id": "4c5c0804",
   "metadata": {},
   "source": [
    "## 0. Load the data\n",
    "The dataset in these examples is a set of MIMIC-II radiology reports. The annotations were created by University of Utah physician-scientist and pneumonia extraordinaire [Dr. Barbara Jones](https://healthcare.utah.edu/fad/mddetail.php?physicianID=u0102859&name=barbara-e-jones). As baseline to compare our system against we will use a system recently developed by her team for identifying misdiagnosis of pneumonia in clinical notes: [`medspacy_pna`](https://github.com/abchapman93/medspacy_pneumonia). This was system was designed for VA and University of Utah data, so it might not achieve as high of performance on MIMIC data as what is reported in the paper. Let's see if we can beat its performance!\n",
    "\n",
    "The data is split into two sets: the **training set** and **testing set**. We'll start by developing our system with the training set before doing a final evaluation on the testing set."
   ]
  },
  {
   "cell_type": "markdown",
   "id": "87cfcf6d",
   "metadata": {},
   "source": [
    "### 0.3 Read in the data\n",
    "Run the code below to read in the training set. The resulting dataframe will have a column for:\n",
    "- The document name\n",
    "- The text\n",
    "- The annotator's document classification (this is the **\"truth\"**)\n",
    "- The baseline NLP system's document classification (this is the **\"prediction\"**)\n",
    "\n",
    "We'll eventually add another column with our own predictions."
   ]
  },
  {
   "cell_type": "code",
   "execution_count": 3,
   "id": "3cecd7a6",
   "metadata": {},
   "outputs": [
    {
     "name": "stdout",
     "output_type": "stream",
     "text": [
      "Reading data from: ../data/pneumonia_data_train.json\n"
     ]
    }
   ],
   "source": [
    "df = read_pneumonia_data(\"train\")"
   ]
  },
  {
   "cell_type": "code",
   "execution_count": 4,
   "id": "fad64ebd",
   "metadata": {},
   "outputs": [
    {
     "data": {
      "text/html": [
       "<div>\n",
       "<style scoped>\n",
       "    .dataframe tbody tr th:only-of-type {\n",
       "        vertical-align: middle;\n",
       "    }\n",
       "\n",
       "    .dataframe tbody tr th {\n",
       "        vertical-align: top;\n",
       "    }\n",
       "\n",
       "    .dataframe thead th {\n",
       "        text-align: right;\n",
       "    }\n",
       "</style>\n",
       "<table border=\"1\" class=\"dataframe\">\n",
       "  <thead>\n",
       "    <tr style=\"text-align: right;\">\n",
       "      <th></th>\n",
       "      <th>filename</th>\n",
       "      <th>text</th>\n",
       "      <th>document_classification</th>\n",
       "      <th>baseline_document_classification</th>\n",
       "    </tr>\n",
       "  </thead>\n",
       "  <tbody>\n",
       "    <tr>\n",
       "      <th>0</th>\n",
       "      <td>subject_id_6383_hadm_id_19146</td>\n",
       "      <td>\\n\\n\\n     DATE: [**2717-5-23**] 12:06 PM\\n   ...</td>\n",
       "      <td>0</td>\n",
       "      <td>0</td>\n",
       "    </tr>\n",
       "    <tr>\n",
       "      <th>1</th>\n",
       "      <td>subject_id_4516_hadm_id_16710</td>\n",
       "      <td>\\n\\n\\n     DATE: [**2900-2-18**] 3:17 PM\\n    ...</td>\n",
       "      <td>0</td>\n",
       "      <td>0</td>\n",
       "    </tr>\n",
       "    <tr>\n",
       "      <th>2</th>\n",
       "      <td>subject_id_283_hadm_id_17902</td>\n",
       "      <td>\\n\\n\\n     DATE: [**2948-10-10**] 7:32 PM\\n   ...</td>\n",
       "      <td>1</td>\n",
       "      <td>1</td>\n",
       "    </tr>\n",
       "    <tr>\n",
       "      <th>3</th>\n",
       "      <td>subject_id_7068_hadm_id_28746</td>\n",
       "      <td>\\n\\n\\n     DATE: [**3043-3-19**] 9:22 AM\\n    ...</td>\n",
       "      <td>0</td>\n",
       "      <td>0</td>\n",
       "    </tr>\n",
       "    <tr>\n",
       "      <th>4</th>\n",
       "      <td>subject_id_4726_hadm_id_27535</td>\n",
       "      <td>\\n\\n\\n     DATE: [**2904-8-20**] 4:47 PM\\n    ...</td>\n",
       "      <td>0</td>\n",
       "      <td>0</td>\n",
       "    </tr>\n",
       "  </tbody>\n",
       "</table>\n",
       "</div>"
      ],
      "text/plain": [
       "                        filename  \\\n",
       "0  subject_id_6383_hadm_id_19146   \n",
       "1  subject_id_4516_hadm_id_16710   \n",
       "2   subject_id_283_hadm_id_17902   \n",
       "3  subject_id_7068_hadm_id_28746   \n",
       "4  subject_id_4726_hadm_id_27535   \n",
       "\n",
       "                                                text  document_classification  \\\n",
       "0  \\n\\n\\n     DATE: [**2717-5-23**] 12:06 PM\\n   ...                        0   \n",
       "1  \\n\\n\\n     DATE: [**2900-2-18**] 3:17 PM\\n    ...                        0   \n",
       "2  \\n\\n\\n     DATE: [**2948-10-10**] 7:32 PM\\n   ...                        1   \n",
       "3  \\n\\n\\n     DATE: [**3043-3-19**] 9:22 AM\\n    ...                        0   \n",
       "4  \\n\\n\\n     DATE: [**2904-8-20**] 4:47 PM\\n    ...                        0   \n",
       "\n",
       "   baseline_document_classification  \n",
       "0                                 0  \n",
       "1                                 0  \n",
       "2                                 1  \n",
       "3                                 0  \n",
       "4                                 0  "
      ]
     },
     "execution_count": 4,
     "metadata": {},
     "output_type": "execute_result"
    }
   ],
   "source": [
    "df.head()"
   ]
  },
  {
   "cell_type": "markdown",
   "id": "3984a250",
   "metadata": {},
   "source": [
    "## 1. Document annotation\n",
    "Before building an NLP system we need to define our concepts annotate a corpus of notes to use as a reference standard. We already have an annotated corpus, so we'll review a few short examples and see how we would annotate them and then look at the reference standard annotations that we already have.\n",
    "\n",
    "### 1.1\n",
    "For this task, we will define a **\"POS\"** note as: \n",
    "\n",
    "*A note which contains a positive **or** possible mention of a term referring to pneumonia.*\n",
    "\n",
    "Consider the following terms to be pneumonia:\n",
    "\n",
    "- Pneumonia\n",
    "- Pna\n",
    "- Opacity\n",
    "- Infiltrate\n",
    "- Consolidation\n",
    "\n",
    "Review the following notes and annotate each as 1 for positive or 0 for negative."
   ]
  },
  {
   "cell_type": "code",
   "execution_count": 5,
   "id": "2906950e",
   "metadata": {},
   "outputs": [
    {
     "data": {
      "application/vnd.jupyter.widget-view+json": {
       "model_id": "5e0992af2d4649f2b24fac254e6a2e9e",
       "version_major": 2,
       "version_minor": 0
      },
      "text/plain": [
       "VBox(children=(HTML(value='<p style=\"font-family:courier\";>\\n    REASON FOR THIS EXAMINATION:</br>\\n      Plea…"
      ]
     },
     "metadata": {},
     "output_type": "display_data"
    },
    {
     "data": {
      "text/plain": []
     },
     "execution_count": 5,
     "metadata": {},
     "output_type": "execute_result"
    }
   ],
   "source": [
    "# RUN CELL TO SEE QUIZ\n",
    "quiz_pna_annotation1"
   ]
  },
  {
   "cell_type": "code",
   "execution_count": 6,
   "id": "24f71f6a",
   "metadata": {},
   "outputs": [
    {
     "data": {
      "application/vnd.jupyter.widget-view+json": {
       "model_id": "4a41d46ed5e7420fa08764c7600907a4",
       "version_major": 2,
       "version_minor": 0
      },
      "text/plain": [
       "VBox(children=(HTML(value='<p style=\"font-family:courier\";>IMPRESSION:  Findings consistent with CHF, although…"
      ]
     },
     "metadata": {},
     "output_type": "display_data"
    },
    {
     "data": {
      "text/plain": []
     },
     "execution_count": 6,
     "metadata": {},
     "output_type": "execute_result"
    }
   ],
   "source": [
    "# RUN CELL TO SEE QUIZ\n",
    "quiz_pna_annotation2"
   ]
  },
  {
   "cell_type": "code",
   "execution_count": 7,
   "id": "899f9559",
   "metadata": {},
   "outputs": [
    {
     "data": {
      "application/vnd.jupyter.widget-view+json": {
       "model_id": "5a5843ca9f0d489f81e368f8b136aeba",
       "version_major": 2,
       "version_minor": 0
      },
      "text/plain": [
       "VBox(children=(HTML(value='<p style=\"font-family:courier\";>IMPRESSION:</br>\\n     1. Mild CHF.</br>\\n     2. L…"
      ]
     },
     "metadata": {},
     "output_type": "display_data"
    },
    {
     "data": {
      "text/plain": []
     },
     "execution_count": 7,
     "metadata": {},
     "output_type": "execute_result"
    }
   ],
   "source": [
    "# RUN CELL TO SEE QUIZ\n",
    "quiz_pna_annotation3"
   ]
  },
  {
   "cell_type": "code",
   "execution_count": 8,
   "id": "5a8c5c3d",
   "metadata": {},
   "outputs": [
    {
     "data": {
      "application/vnd.jupyter.widget-view+json": {
       "model_id": "4184f106f80543e5a21daea1151dd5df",
       "version_major": 2,
       "version_minor": 0
      },
      "text/plain": [
       "VBox(children=(HTML(value='<p style=\"font-family:courier\";>IMPRESSION:</br>\\n\\n     1) Tubes and lines as desc…"
      ]
     },
     "metadata": {},
     "output_type": "display_data"
    },
    {
     "data": {
      "text/plain": []
     },
     "execution_count": 8,
     "metadata": {},
     "output_type": "execute_result"
    }
   ],
   "source": [
    "# RUN CELL TO SEE QUIZ\n",
    "quiz_pna_annotation4"
   ]
  },
  {
   "cell_type": "code",
   "execution_count": null,
   "id": "46cf99b7",
   "metadata": {},
   "outputs": [],
   "source": []
  },
  {
   "cell_type": "markdown",
   "id": "142ba622",
   "metadata": {},
   "source": [
    "### 1.2\n",
    "The true annotations can be found in `df[\"document_classification\"]`. Answer the questions below."
   ]
  },
  {
   "cell_type": "code",
   "execution_count": 9,
   "id": "657d51cb",
   "metadata": {},
   "outputs": [
    {
     "data": {
      "application/vnd.jupyter.widget-view+json": {
       "model_id": "40bfda4c615840df892053e38ae6e700",
       "version_major": 2,
       "version_minor": 0
      },
      "text/plain": [
       "VBox(children=(HTML(value='How many notes are annotated in this dataset?'), Textarea(value='', placeholder='Ty…"
      ]
     },
     "metadata": {},
     "output_type": "display_data"
    },
    {
     "data": {
      "text/plain": []
     },
     "execution_count": 9,
     "metadata": {},
     "output_type": "execute_result"
    }
   ],
   "source": [
    "# RUN CELL TO SEE QUIZ\n",
    "quiz_num_pna_notes"
   ]
  },
  {
   "cell_type": "code",
   "execution_count": 10,
   "id": "a6672f5e",
   "metadata": {},
   "outputs": [
    {
     "data": {
      "text/plain": [
       "140"
      ]
     },
     "execution_count": 10,
     "metadata": {},
     "output_type": "execute_result"
    }
   ],
   "source": [
    "len(df)"
   ]
  },
  {
   "cell_type": "code",
   "execution_count": 11,
   "id": "37aeeb77",
   "metadata": {},
   "outputs": [
    {
     "data": {
      "application/vnd.jupyter.widget-view+json": {
       "model_id": "465a4a4e69474867839d22f46d376e74",
       "version_major": 2,
       "version_minor": 0
      },
      "text/plain": [
       "VBox(children=(HTML(value='How proportion of notes are annotated as positive?'), RadioButtons(layout=Layout(wi…"
      ]
     },
     "metadata": {},
     "output_type": "display_data"
    },
    {
     "data": {
      "text/plain": []
     },
     "execution_count": 11,
     "metadata": {},
     "output_type": "execute_result"
    }
   ],
   "source": [
    "# RUN CELL TO SEE QUIZ\n",
    "quiz_num_pos_pna_notes"
   ]
  },
  {
   "cell_type": "code",
   "execution_count": 13,
   "id": "e0087ad1",
   "metadata": {},
   "outputs": [
    {
     "data": {
      "text/plain": [
       "0.4857142857142857"
      ]
     },
     "execution_count": 13,
     "metadata": {},
     "output_type": "execute_result"
    }
   ],
   "source": [
    "df[\"document_classification\"].mean()"
   ]
  },
  {
   "cell_type": "code",
   "execution_count": null,
   "id": "ef69dcf2",
   "metadata": {},
   "outputs": [],
   "source": []
  },
  {
   "cell_type": "markdown",
   "id": "f86f068a",
   "metadata": {},
   "source": [
    "## 2. Build your NLP system and process texts\n",
    "Now that we have some idea about what our dataset contains, let's starting building an NLP system and reviewing the output. First, build an empty NLP system. Then we'll process the notes in our dataset using our system as is (which doesn't have any rules). Go through the output and review the data. Find some examples of pneumonia that you should extract. Then go through and add rules for each of the following components as needed:\n",
    "\n",
    "1. Add target concept rules to `target_matcher` to identify pneumonia in the text\n",
    "2. Add ConText rules to `context` to improve attribute assertion\n",
    "3. Optionally, add additional rules to `sectionizer` if the section logic is helpful for classifying the entities.\n",
    "4. Build a document classifier which returns `0` or `1` for a doc. A simple version would just use the ConText attributes like `is_negated`, but a more complex version might also use information such as the section of the note.\n",
    "5. Evaluate the system and review errors\n",
    "\n",
    "After adding rules, reprocess your notes and review the output again. Since NLP is a computationally expensive procedure, you might want to work in batches of 10 or so before processing the whole corpus."
   ]
  },
  {
   "cell_type": "markdown",
   "id": "0f83327c",
   "metadata": {},
   "source": [
    "### 2.1: Load a model\n",
    "Import `medspacy` and create an `nlp` model."
   ]
  },
  {
   "cell_type": "code",
   "execution_count": 14,
   "id": "7e30d264",
   "metadata": {},
   "outputs": [],
   "source": [
    "nlp = medspacy.load()"
   ]
  },
  {
   "cell_type": "code",
   "execution_count": 15,
   "id": "0ec5c3ff",
   "metadata": {},
   "outputs": [
    {
     "data": {
      "text/plain": [
       "['medspacy_pyrush', 'medspacy_target_matcher', 'medspacy_context']"
      ]
     },
     "execution_count": 15,
     "metadata": {},
     "output_type": "execute_result"
    }
   ],
   "source": [
    "nlp.pipe_names"
   ]
  },
  {
   "cell_type": "code",
   "execution_count": 16,
   "id": "1652de69",
   "metadata": {},
   "outputs": [
    {
     "name": "stdout",
     "output_type": "stream",
     "text": [
      "That is correct!\n"
     ]
    }
   ],
   "source": [
    "# RUN CELL TO TEST VALUE\n",
    "test_load_nlp.test(nlp)"
   ]
  },
  {
   "cell_type": "code",
   "execution_count": null,
   "id": "836a1710",
   "metadata": {},
   "outputs": [],
   "source": []
  },
  {
   "cell_type": "markdown",
   "id": "ff722ec0",
   "metadata": {},
   "source": [
    "### 2.2: Add a Sectionizer\n",
    "By default, medspaCy doesn't load a `Sectionizer` component, but we want to include section detection in our pipeline. Add a sectionizer to your pipeline."
   ]
  },
  {
   "cell_type": "code",
   "execution_count": 17,
   "id": "921955c7",
   "metadata": {},
   "outputs": [
    {
     "data": {
      "text/plain": [
       "<medspacy.section_detection.sectionizer.Sectionizer at 0x7fdc810f3220>"
      ]
     },
     "execution_count": 17,
     "metadata": {},
     "output_type": "execute_result"
    }
   ],
   "source": [
    "nlp.add_pipe(\"medspacy_sectionizer\")"
   ]
  },
  {
   "cell_type": "code",
   "execution_count": 18,
   "id": "9153be29",
   "metadata": {},
   "outputs": [
    {
     "name": "stdout",
     "output_type": "stream",
     "text": [
      "That is correct!\n"
     ]
    }
   ],
   "source": [
    "test_load_nlp_add_sectionizer.test(nlp)"
   ]
  },
  {
   "cell_type": "markdown",
   "id": "e474f520",
   "metadata": {},
   "source": [
    "### 2.3: Process notes\n",
    "The code below will process the notes in `df_train` with your NLP. If you want to use the whole dataset, set `df_train = df`. Otherwise, work in batches like `df_train = df.iloc[:10]`, `df_train = df.iloc[10:20]`, etc."
   ]
  },
  {
   "cell_type": "code",
   "execution_count": 19,
   "id": "f7fe7caa",
   "metadata": {},
   "outputs": [],
   "source": [
    "# df_train = df\n",
    "df_train = df.iloc[:10]"
   ]
  },
  {
   "cell_type": "code",
   "execution_count": 43,
   "id": "c1e49024",
   "metadata": {},
   "outputs": [],
   "source": [
    "docs = list(nlp.pipe(df_train[\"text\"]))"
   ]
  },
  {
   "cell_type": "code",
   "execution_count": 44,
   "id": "4f26fb98",
   "metadata": {
    "scrolled": true
   },
   "outputs": [
    {
     "data": {
      "application/vnd.jupyter.widget-view+json": {
       "model_id": "b0af0ca628b94bbe90d53dc96f305fa8",
       "version_major": 2,
       "version_minor": 0
      },
      "text/plain": [
       "Box(children=(HBox(children=(RadioButtons(options=('Ent', 'Dep', 'Both'), value='Ent'), Button(description='Pr…"
      ]
     },
     "metadata": {},
     "output_type": "display_data"
    }
   ],
   "source": [
    "w = MedspaCyVisualizerWidget(docs)"
   ]
  },
  {
   "cell_type": "markdown",
   "id": "daedf5ac",
   "metadata": {},
   "source": [
    "### 2.4 Concept extraction\n",
    "Add rules to the `target_matcher` component to extract mentions of pneumonia."
   ]
  },
  {
   "cell_type": "code",
   "execution_count": 45,
   "id": "6dbce128",
   "metadata": {},
   "outputs": [],
   "source": [
    "from medspacy.target_matcher import TargetRule\n",
    "target_rules = [\n",
    "    TargetRule(\"PNA\", \"PNEUMONIA\"),\n",
    "    TargetRule(\"pneumonia\", \"PNEUMONIA\"),\n",
    "     TargetRule(\"PNA\",\"PNEUMONIA\"),\n",
    "    TargetRule(\"pneumonia\",\"PNEUMONIA\"),\n",
    "    TargetRule(\"opacities\", \"PNEUMONIA\"),\n",
    "    TargetRule(\"opacification\", \"PNEUMONIA\"),\n",
    "    TargetRule(\"opacity\", \"PNEUMONIA\"),\n",
    "    TargetRule(\"infiltrate\", \"PNEUMONIA\"),\n",
    "    TargetRule(\"inflitrates\", \"PNEUMONIA\"),\n",
    "    TargetRule(\"consolidation\", \"PNEUMONIA\"),\n",
    "]\n",
    "if len(target_rules) > 0:\n",
    "    nlp.get_pipe(\"medspacy_target_matcher\").add(target_rules)"
   ]
  },
  {
   "cell_type": "markdown",
   "id": "58f89678",
   "metadata": {},
   "source": [
    "### 2.5 ConText\n",
    "Add any modifiers which were not captured with the default rule set."
   ]
  },
  {
   "cell_type": "code",
   "execution_count": null,
   "id": "d82abb3b",
   "metadata": {},
   "outputs": [],
   "source": [
    "from medspacy.context import ConTextRule\n",
    "context_rules = [\n",
    "\n",
    "]\n",
    "if len(context_rules) > 0:\n",
    "    nlp.get_pipe(\"medspacy_context\").add(context_rules)"
   ]
  },
  {
   "cell_type": "markdown",
   "id": "d3ef057c",
   "metadata": {},
   "source": [
    "### 2.6 Sections\n",
    "Add any section titles which were not detected and led to errors."
   ]
  },
  {
   "cell_type": "code",
   "execution_count": null,
   "id": "ee33ab8d",
   "metadata": {},
   "outputs": [],
   "source": [
    "from medspacy.section_detection import Sectionizer\n",
    "section_rules = [\n",
    "\n",
    "]\n",
    "\n",
    "if len(section_rules) > 0:\n",
    "    nlp.get_pipe(\"medspacy_sectionizer\").add(section_rules)"
   ]
  },
  {
   "cell_type": "markdown",
   "id": "e9d37adc",
   "metadata": {},
   "source": [
    "### 2.7: Document Classification\n",
    "Write a function called `classify_pna` which takes a doc and returns a `1` if the document is positive for pneumonia and `0` if it is negative."
   ]
  },
  {
   "cell_type": "code",
   "execution_count": 29,
   "id": "1a8b5241",
   "metadata": {},
   "outputs": [],
   "source": [
    "def classify_pna(doc):\n",
    "    for ent in doc.ents:\n",
    "        if not (ent._.is_negated or ent._.is_uncertain or ent._.is_family or ent._.is_historical or ent._.is_hypothetical):\n",
    "            return 1\n",
    "    return 0"
   ]
  },
  {
   "cell_type": "code",
   "execution_count": null,
   "id": "69bb4f9d",
   "metadata": {},
   "outputs": [],
   "source": []
  },
  {
   "cell_type": "code",
   "execution_count": 30,
   "id": "24e10a98",
   "metadata": {},
   "outputs": [],
   "source": [
    "pred_1 = classify_pna(nlp(\"There is no evidence of pna\"))"
   ]
  },
  {
   "cell_type": "code",
   "execution_count": 31,
   "id": "a01bfe9d",
   "metadata": {},
   "outputs": [
    {
     "data": {
      "text/plain": [
       "0"
      ]
     },
     "execution_count": 31,
     "metadata": {},
     "output_type": "execute_result"
    }
   ],
   "source": [
    "pred_1"
   ]
  },
  {
   "cell_type": "code",
   "execution_count": 32,
   "id": "01ff1b63",
   "metadata": {},
   "outputs": [
    {
     "name": "stdout",
     "output_type": "stream",
     "text": [
      "That is correct!\n"
     ]
    }
   ],
   "source": [
    "# RUN CELL TO TEST VALUE\n",
    "test_classify_pna_1.test(pred_1)"
   ]
  },
  {
   "cell_type": "code",
   "execution_count": 37,
   "id": "49718cbf",
   "metadata": {},
   "outputs": [],
   "source": [
    "pred_2 = classify_pna(nlp(\"Impression: pneumonia\"))"
   ]
  },
  {
   "cell_type": "code",
   "execution_count": 38,
   "id": "6b9d704e",
   "metadata": {},
   "outputs": [
    {
     "data": {
      "text/plain": [
       "1"
      ]
     },
     "execution_count": 38,
     "metadata": {},
     "output_type": "execute_result"
    }
   ],
   "source": [
    "pred_2"
   ]
  },
  {
   "cell_type": "code",
   "execution_count": 39,
   "id": "2bf71e26",
   "metadata": {},
   "outputs": [
    {
     "name": "stdout",
     "output_type": "stream",
     "text": [
      "That is correct!\n"
     ]
    }
   ],
   "source": [
    "# RUN CELL TO TEST VALUE\n",
    "test_classify_pna_2.test(pred_2)"
   ]
  },
  {
   "cell_type": "code",
   "execution_count": null,
   "id": "e7c323af",
   "metadata": {},
   "outputs": [],
   "source": []
  },
  {
   "cell_type": "markdown",
   "id": "62aea17d",
   "metadata": {},
   "source": [
    "### 2.8: Evaluate your system on training data\n",
    "After reprocessing your texts and creating `docs` with an updated NLP, run the code below to get performance metrics for your system. The function `evaluate_system` will return a DataFrame with performance characteristics for your system as well as the baseline system.\n",
    "\n",
    "Look at the results and ask the following questions:\n",
    "- What sorts of mistakes does my system appear to be making?\n",
    "- Is precision or recall higher? What does that mean in the context of the research question?\n",
    "- How is it comparing to the baseline NLP?"
   ]
  },
  {
   "cell_type": "code",
   "execution_count": 40,
   "id": "06643ff7",
   "metadata": {},
   "outputs": [],
   "source": [
    "# Add your predictions\n",
    "df_train = add_document_classifications(df_train, docs, classify_pna)"
   ]
  },
  {
   "cell_type": "code",
   "execution_count": 41,
   "id": "801b8c4b",
   "metadata": {},
   "outputs": [
    {
     "data": {
      "text/html": [
       "<div>\n",
       "<style scoped>\n",
       "    .dataframe tbody tr th:only-of-type {\n",
       "        vertical-align: middle;\n",
       "    }\n",
       "\n",
       "    .dataframe tbody tr th {\n",
       "        vertical-align: top;\n",
       "    }\n",
       "\n",
       "    .dataframe thead th {\n",
       "        text-align: right;\n",
       "    }\n",
       "</style>\n",
       "<table border=\"1\" class=\"dataframe\">\n",
       "  <thead>\n",
       "    <tr style=\"text-align: right;\">\n",
       "      <th></th>\n",
       "      <th>filename</th>\n",
       "      <th>text</th>\n",
       "      <th>document_classification</th>\n",
       "      <th>baseline_document_classification</th>\n",
       "      <th>nlp_document_classification</th>\n",
       "      <th>doc</th>\n",
       "    </tr>\n",
       "  </thead>\n",
       "  <tbody>\n",
       "    <tr>\n",
       "      <th>0</th>\n",
       "      <td>subject_id_6383_hadm_id_19146</td>\n",
       "      <td>\\n\\n\\n     DATE: [**2717-5-23**] 12:06 PM\\n   ...</td>\n",
       "      <td>0</td>\n",
       "      <td>0</td>\n",
       "      <td>0</td>\n",
       "      <td>(\\n\\n\\n     , DATE, :, [, *, *, 2717, -, 5, -,...</td>\n",
       "    </tr>\n",
       "    <tr>\n",
       "      <th>1</th>\n",
       "      <td>subject_id_4516_hadm_id_16710</td>\n",
       "      <td>\\n\\n\\n     DATE: [**2900-2-18**] 3:17 PM\\n    ...</td>\n",
       "      <td>0</td>\n",
       "      <td>0</td>\n",
       "      <td>0</td>\n",
       "      <td>(\\n\\n\\n     , DATE, :, [, *, *, 2900, -, 2, -,...</td>\n",
       "    </tr>\n",
       "    <tr>\n",
       "      <th>2</th>\n",
       "      <td>subject_id_283_hadm_id_17902</td>\n",
       "      <td>\\n\\n\\n     DATE: [**2948-10-10**] 7:32 PM\\n   ...</td>\n",
       "      <td>1</td>\n",
       "      <td>1</td>\n",
       "      <td>1</td>\n",
       "      <td>(\\n\\n\\n     , DATE, :, [, *, *, 2948, -, 10, -...</td>\n",
       "    </tr>\n",
       "    <tr>\n",
       "      <th>3</th>\n",
       "      <td>subject_id_7068_hadm_id_28746</td>\n",
       "      <td>\\n\\n\\n     DATE: [**3043-3-19**] 9:22 AM\\n    ...</td>\n",
       "      <td>0</td>\n",
       "      <td>0</td>\n",
       "      <td>0</td>\n",
       "      <td>(\\n\\n\\n     , DATE, :, [, *, *, 3043, -, 3, -,...</td>\n",
       "    </tr>\n",
       "    <tr>\n",
       "      <th>4</th>\n",
       "      <td>subject_id_4726_hadm_id_27535</td>\n",
       "      <td>\\n\\n\\n     DATE: [**2904-8-20**] 4:47 PM\\n    ...</td>\n",
       "      <td>0</td>\n",
       "      <td>0</td>\n",
       "      <td>0</td>\n",
       "      <td>(\\n\\n\\n     , DATE, :, [, *, *, 2904, -, 8, -,...</td>\n",
       "    </tr>\n",
       "  </tbody>\n",
       "</table>\n",
       "</div>"
      ],
      "text/plain": [
       "                        filename  \\\n",
       "0  subject_id_6383_hadm_id_19146   \n",
       "1  subject_id_4516_hadm_id_16710   \n",
       "2   subject_id_283_hadm_id_17902   \n",
       "3  subject_id_7068_hadm_id_28746   \n",
       "4  subject_id_4726_hadm_id_27535   \n",
       "\n",
       "                                                text  document_classification  \\\n",
       "0  \\n\\n\\n     DATE: [**2717-5-23**] 12:06 PM\\n   ...                        0   \n",
       "1  \\n\\n\\n     DATE: [**2900-2-18**] 3:17 PM\\n    ...                        0   \n",
       "2  \\n\\n\\n     DATE: [**2948-10-10**] 7:32 PM\\n   ...                        1   \n",
       "3  \\n\\n\\n     DATE: [**3043-3-19**] 9:22 AM\\n    ...                        0   \n",
       "4  \\n\\n\\n     DATE: [**2904-8-20**] 4:47 PM\\n    ...                        0   \n",
       "\n",
       "   baseline_document_classification  nlp_document_classification  \\\n",
       "0                                 0                            0   \n",
       "1                                 0                            0   \n",
       "2                                 1                            1   \n",
       "3                                 0                            0   \n",
       "4                                 0                            0   \n",
       "\n",
       "                                                 doc  \n",
       "0  (\\n\\n\\n     , DATE, :, [, *, *, 2717, -, 5, -,...  \n",
       "1  (\\n\\n\\n     , DATE, :, [, *, *, 2900, -, 2, -,...  \n",
       "2  (\\n\\n\\n     , DATE, :, [, *, *, 2948, -, 10, -...  \n",
       "3  (\\n\\n\\n     , DATE, :, [, *, *, 3043, -, 3, -,...  \n",
       "4  (\\n\\n\\n     , DATE, :, [, *, *, 2904, -, 8, -,...  "
      ]
     },
     "execution_count": 41,
     "metadata": {},
     "output_type": "execute_result"
    }
   ],
   "source": [
    "df_train.head()"
   ]
  },
  {
   "cell_type": "code",
   "execution_count": 42,
   "id": "85b5abfd",
   "metadata": {},
   "outputs": [
    {
     "data": {
      "text/html": [
       "<div>\n",
       "<style scoped>\n",
       "    .dataframe tbody tr th:only-of-type {\n",
       "        vertical-align: middle;\n",
       "    }\n",
       "\n",
       "    .dataframe tbody tr th {\n",
       "        vertical-align: top;\n",
       "    }\n",
       "\n",
       "    .dataframe thead th {\n",
       "        text-align: right;\n",
       "    }\n",
       "</style>\n",
       "<table border=\"1\" class=\"dataframe\">\n",
       "  <thead>\n",
       "    <tr style=\"text-align: right;\">\n",
       "      <th></th>\n",
       "      <th>system</th>\n",
       "      <th>accuracy</th>\n",
       "      <th>precision</th>\n",
       "      <th>recall</th>\n",
       "      <th>f1-score</th>\n",
       "      <th>n_positive</th>\n",
       "      <th>n_total</th>\n",
       "    </tr>\n",
       "  </thead>\n",
       "  <tbody>\n",
       "    <tr>\n",
       "      <th>0</th>\n",
       "      <td>baseline</td>\n",
       "      <td>0.8</td>\n",
       "      <td>1.0</td>\n",
       "      <td>0.6</td>\n",
       "      <td>0.750000</td>\n",
       "      <td>5</td>\n",
       "      <td>10</td>\n",
       "    </tr>\n",
       "    <tr>\n",
       "      <th>1</th>\n",
       "      <td>nlp</td>\n",
       "      <td>0.6</td>\n",
       "      <td>1.0</td>\n",
       "      <td>0.2</td>\n",
       "      <td>0.333333</td>\n",
       "      <td>5</td>\n",
       "      <td>10</td>\n",
       "    </tr>\n",
       "  </tbody>\n",
       "</table>\n",
       "</div>"
      ],
      "text/plain": [
       "     system  accuracy  precision  recall  f1-score  n_positive  n_total\n",
       "0  baseline       0.8        1.0     0.6  0.750000           5       10\n",
       "1       nlp       0.6        1.0     0.2  0.333333           5       10"
      ]
     },
     "execution_count": 42,
     "metadata": {},
     "output_type": "execute_result"
    }
   ],
   "source": [
    "results_train = evaluate_system(df_train)\n",
    "results_train"
   ]
  },
  {
   "cell_type": "code",
   "execution_count": null,
   "id": "d585cd54",
   "metadata": {},
   "outputs": [],
   "source": []
  },
  {
   "cell_type": "markdown",
   "id": "eae623a4",
   "metadata": {},
   "source": [
    "### 2.9: Error Analysis\n",
    "Review examples of mistakes your NLP system made. We'll subset the dataframe to look at **false positives** and **false negatives**."
   ]
  },
  {
   "cell_type": "markdown",
   "id": "de1a7824",
   "metadata": {},
   "source": [
    "First, edit the code below so that we have two different DataFrames containing errors: `fps` for false positibes and `fns` for false negatives."
   ]
  },
  {
   "cell_type": "code",
   "execution_count": null,
   "id": "6682743d",
   "metadata": {},
   "outputs": [],
   "source": [
    "__ = df_train.query(\"document_classification == 0 & nlp_document_classification == 1\")"
   ]
  },
  {
   "cell_type": "code",
   "execution_count": null,
   "id": "7d46bbd6",
   "metadata": {},
   "outputs": [],
   "source": [
    "__ = df_train.query(\"document_classification == 1 & nlp_document_classification == 0\")"
   ]
  },
  {
   "cell_type": "code",
   "execution_count": null,
   "id": "5f8d5fa6",
   "metadata": {},
   "outputs": [],
   "source": [
    "fps"
   ]
  },
  {
   "cell_type": "code",
   "execution_count": null,
   "id": "5476daad",
   "metadata": {},
   "outputs": [],
   "source": [
    "w_fps = MedspaCyVisualizerWidget(list(fps[\"doc\"]))"
   ]
  },
  {
   "cell_type": "code",
   "execution_count": null,
   "id": "e9bd19a0",
   "metadata": {},
   "outputs": [],
   "source": [
    "w_fns = MedspaCyVisualizerWidget(list(fns[\"doc\"]))"
   ]
  },
  {
   "cell_type": "code",
   "execution_count": null,
   "id": "07c068fe",
   "metadata": {},
   "outputs": [],
   "source": []
  },
  {
   "cell_type": "markdown",
   "id": "d35d956c",
   "metadata": {},
   "source": [
    "## 3. Final evaluation\n",
    "Once you feel like you're ready, read in the testing data, run your NLP on it, and evaluate it. You should do this **one time** so that it is an honest evaluation of how your system will perform on new, unseen data. Once you see the final results, go through the steps we did above with the training data to understand our performance on the testing set and what sorts of errors happened. How did your final system do?"
   ]
  },
  {
   "cell_type": "code",
   "execution_count": 46,
   "id": "222cbf30",
   "metadata": {},
   "outputs": [
    {
     "name": "stdout",
     "output_type": "stream",
     "text": [
      "Reading data from: ../data/pneumonia_data_test.json\n"
     ]
    }
   ],
   "source": [
    "df_test = read_pneumonia_data(\"test\")\n",
    "docs_test = list(nlp.pipe(df_test[\"text\"]))\n",
    "df_test = add_document_classifications(df_test, docs_test, classify_pna)"
   ]
  },
  {
   "cell_type": "code",
   "execution_count": 48,
   "id": "4a24aa31",
   "metadata": {},
   "outputs": [
    {
     "data": {
      "text/html": [
       "<div>\n",
       "<style scoped>\n",
       "    .dataframe tbody tr th:only-of-type {\n",
       "        vertical-align: middle;\n",
       "    }\n",
       "\n",
       "    .dataframe tbody tr th {\n",
       "        vertical-align: top;\n",
       "    }\n",
       "\n",
       "    .dataframe thead th {\n",
       "        text-align: right;\n",
       "    }\n",
       "</style>\n",
       "<table border=\"1\" class=\"dataframe\">\n",
       "  <thead>\n",
       "    <tr style=\"text-align: right;\">\n",
       "      <th></th>\n",
       "      <th>filename</th>\n",
       "      <th>text</th>\n",
       "      <th>document_classification</th>\n",
       "      <th>baseline_document_classification</th>\n",
       "      <th>nlp_document_classification</th>\n",
       "      <th>doc</th>\n",
       "    </tr>\n",
       "  </thead>\n",
       "  <tbody>\n",
       "    <tr>\n",
       "      <th>1</th>\n",
       "      <td>subject_id_7234_hadm_id_17497</td>\n",
       "      <td>\\n\\n\\n     DATE: [**2977-1-16**] 11:34 PM\\n   ...</td>\n",
       "      <td>0</td>\n",
       "      <td>1</td>\n",
       "      <td>1</td>\n",
       "      <td>(\\n\\n\\n     , DATE, :, [, *, *, 2977, -, 1, -,...</td>\n",
       "    </tr>\n",
       "    <tr>\n",
       "      <th>5</th>\n",
       "      <td>subject_id_106_hadm_id_24012</td>\n",
       "      <td>\\n\\n\\n     DATE: [**2993-7-25**] 4:58 PM\\n    ...</td>\n",
       "      <td>0</td>\n",
       "      <td>0</td>\n",
       "      <td>1</td>\n",
       "      <td>(\\n\\n\\n     , DATE, :, [, *, *, 2993, -, 7, -,...</td>\n",
       "    </tr>\n",
       "    <tr>\n",
       "      <th>11</th>\n",
       "      <td>subject_id_7234_hadm_id_17497</td>\n",
       "      <td>\\n\\n\\n     DATE: [**2977-1-16**] 11:34 PM\\n   ...</td>\n",
       "      <td>0</td>\n",
       "      <td>1</td>\n",
       "      <td>1</td>\n",
       "      <td>(\\n\\n\\n     , DATE, :, [, *, *, 2977, -, 1, -,...</td>\n",
       "    </tr>\n",
       "    <tr>\n",
       "      <th>17</th>\n",
       "      <td>subject_id_106_hadm_id_24012</td>\n",
       "      <td>\\n\\n\\n     DATE: [**2993-7-25**] 4:58 PM\\n    ...</td>\n",
       "      <td>0</td>\n",
       "      <td>0</td>\n",
       "      <td>1</td>\n",
       "      <td>(\\n\\n\\n     , DATE, :, [, *, *, 2993, -, 7, -,...</td>\n",
       "    </tr>\n",
       "    <tr>\n",
       "      <th>49</th>\n",
       "      <td>subject_id_8311_hadm_id_9245</td>\n",
       "      <td>\\n\\n\\n     DATE: [**2741-5-16**] 1:46 PM\\n    ...</td>\n",
       "      <td>0</td>\n",
       "      <td>1</td>\n",
       "      <td>1</td>\n",
       "      <td>(\\n\\n\\n     , DATE, :, [, *, *, 2741, -, 5, -,...</td>\n",
       "    </tr>\n",
       "    <tr>\n",
       "      <th>50</th>\n",
       "      <td>subject_id_7728_hadm_id_15</td>\n",
       "      <td>\\n\\n\\n     DATE: [**3491-4-10**] 11:22 AM\\n   ...</td>\n",
       "      <td>0</td>\n",
       "      <td>1</td>\n",
       "      <td>1</td>\n",
       "      <td>(\\n\\n\\n     , DATE, :, [, *, *, 3491, -, 4, -,...</td>\n",
       "    </tr>\n",
       "    <tr>\n",
       "      <th>55</th>\n",
       "      <td>subject_id_7728_hadm_id_15</td>\n",
       "      <td>\\n\\n\\n     DATE: [**3491-4-10**] 11:22 AM\\n   ...</td>\n",
       "      <td>0</td>\n",
       "      <td>1</td>\n",
       "      <td>1</td>\n",
       "      <td>(\\n\\n\\n     , DATE, :, [, *, *, 3491, -, 4, -,...</td>\n",
       "    </tr>\n",
       "    <tr>\n",
       "      <th>56</th>\n",
       "      <td>subject_id_8311_hadm_id_9245</td>\n",
       "      <td>\\n\\n\\n     DATE: [**2741-5-16**] 1:46 PM\\n    ...</td>\n",
       "      <td>0</td>\n",
       "      <td>1</td>\n",
       "      <td>1</td>\n",
       "      <td>(\\n\\n\\n     , DATE, :, [, *, *, 2741, -, 5, -,...</td>\n",
       "    </tr>\n",
       "  </tbody>\n",
       "</table>\n",
       "</div>"
      ],
      "text/plain": [
       "                         filename  \\\n",
       "1   subject_id_7234_hadm_id_17497   \n",
       "5    subject_id_106_hadm_id_24012   \n",
       "11  subject_id_7234_hadm_id_17497   \n",
       "17   subject_id_106_hadm_id_24012   \n",
       "49   subject_id_8311_hadm_id_9245   \n",
       "50     subject_id_7728_hadm_id_15   \n",
       "55     subject_id_7728_hadm_id_15   \n",
       "56   subject_id_8311_hadm_id_9245   \n",
       "\n",
       "                                                 text  \\\n",
       "1   \\n\\n\\n     DATE: [**2977-1-16**] 11:34 PM\\n   ...   \n",
       "5   \\n\\n\\n     DATE: [**2993-7-25**] 4:58 PM\\n    ...   \n",
       "11  \\n\\n\\n     DATE: [**2977-1-16**] 11:34 PM\\n   ...   \n",
       "17  \\n\\n\\n     DATE: [**2993-7-25**] 4:58 PM\\n    ...   \n",
       "49  \\n\\n\\n     DATE: [**2741-5-16**] 1:46 PM\\n    ...   \n",
       "50  \\n\\n\\n     DATE: [**3491-4-10**] 11:22 AM\\n   ...   \n",
       "55  \\n\\n\\n     DATE: [**3491-4-10**] 11:22 AM\\n   ...   \n",
       "56  \\n\\n\\n     DATE: [**2741-5-16**] 1:46 PM\\n    ...   \n",
       "\n",
       "    document_classification  baseline_document_classification  \\\n",
       "1                         0                                 1   \n",
       "5                         0                                 0   \n",
       "11                        0                                 1   \n",
       "17                        0                                 0   \n",
       "49                        0                                 1   \n",
       "50                        0                                 1   \n",
       "55                        0                                 1   \n",
       "56                        0                                 1   \n",
       "\n",
       "    nlp_document_classification  \\\n",
       "1                             1   \n",
       "5                             1   \n",
       "11                            1   \n",
       "17                            1   \n",
       "49                            1   \n",
       "50                            1   \n",
       "55                            1   \n",
       "56                            1   \n",
       "\n",
       "                                                  doc  \n",
       "1   (\\n\\n\\n     , DATE, :, [, *, *, 2977, -, 1, -,...  \n",
       "5   (\\n\\n\\n     , DATE, :, [, *, *, 2993, -, 7, -,...  \n",
       "11  (\\n\\n\\n     , DATE, :, [, *, *, 2977, -, 1, -,...  \n",
       "17  (\\n\\n\\n     , DATE, :, [, *, *, 2993, -, 7, -,...  \n",
       "49  (\\n\\n\\n     , DATE, :, [, *, *, 2741, -, 5, -,...  \n",
       "50  (\\n\\n\\n     , DATE, :, [, *, *, 3491, -, 4, -,...  \n",
       "55  (\\n\\n\\n     , DATE, :, [, *, *, 3491, -, 4, -,...  \n",
       "56  (\\n\\n\\n     , DATE, :, [, *, *, 2741, -, 5, -,...  "
      ]
     },
     "execution_count": 48,
     "metadata": {},
     "output_type": "execute_result"
    }
   ],
   "source": [
    "df_test.query(\"document_classification != nlp_document_classification\")"
   ]
  },
  {
   "cell_type": "code",
   "execution_count": 47,
   "id": "f94a21b2",
   "metadata": {},
   "outputs": [
    {
     "data": {
      "text/html": [
       "<div>\n",
       "<style scoped>\n",
       "    .dataframe tbody tr th:only-of-type {\n",
       "        vertical-align: middle;\n",
       "    }\n",
       "\n",
       "    .dataframe tbody tr th {\n",
       "        vertical-align: top;\n",
       "    }\n",
       "\n",
       "    .dataframe thead th {\n",
       "        text-align: right;\n",
       "    }\n",
       "</style>\n",
       "<table border=\"1\" class=\"dataframe\">\n",
       "  <thead>\n",
       "    <tr style=\"text-align: right;\">\n",
       "      <th></th>\n",
       "      <th>system</th>\n",
       "      <th>accuracy</th>\n",
       "      <th>precision</th>\n",
       "      <th>recall</th>\n",
       "      <th>f1-score</th>\n",
       "      <th>n_positive</th>\n",
       "      <th>n_total</th>\n",
       "    </tr>\n",
       "  </thead>\n",
       "  <tbody>\n",
       "    <tr>\n",
       "      <th>0</th>\n",
       "      <td>baseline</td>\n",
       "      <td>0.833333</td>\n",
       "      <td>0.800000</td>\n",
       "      <td>0.857143</td>\n",
       "      <td>0.827586</td>\n",
       "      <td>28</td>\n",
       "      <td>60</td>\n",
       "    </tr>\n",
       "    <tr>\n",
       "      <th>1</th>\n",
       "      <td>nlp</td>\n",
       "      <td>0.866667</td>\n",
       "      <td>0.777778</td>\n",
       "      <td>1.000000</td>\n",
       "      <td>0.875000</td>\n",
       "      <td>28</td>\n",
       "      <td>60</td>\n",
       "    </tr>\n",
       "  </tbody>\n",
       "</table>\n",
       "</div>"
      ],
      "text/plain": [
       "     system  accuracy  precision    recall  f1-score  n_positive  n_total\n",
       "0  baseline  0.833333   0.800000  0.857143  0.827586          28       60\n",
       "1       nlp  0.866667   0.777778  1.000000  0.875000          28       60"
      ]
     },
     "execution_count": 47,
     "metadata": {},
     "output_type": "execute_result"
    }
   ],
   "source": [
    "evaluate_system(df_test)"
   ]
  },
  {
   "cell_type": "code",
   "execution_count": null,
   "id": "55de6307",
   "metadata": {},
   "outputs": [],
   "source": []
  }
 ],
 "metadata": {
  "kernelspec": {
   "display_name": "Python 3 (ipykernel)",
   "language": "python",
   "name": "python3"
  },
  "language_info": {
   "codemirror_mode": {
    "name": "ipython",
    "version": 3
   },
   "file_extension": ".py",
   "mimetype": "text/x-python",
   "name": "python",
   "nbconvert_exporter": "python",
   "pygments_lexer": "ipython3",
   "version": "3.9.12"
  }
 },
 "nbformat": 4,
 "nbformat_minor": 5
}
