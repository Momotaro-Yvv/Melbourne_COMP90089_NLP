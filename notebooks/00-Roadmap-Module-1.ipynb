{
 "cells": [
  {
   "cell_type": "markdown",
   "id": "1473797a",
   "metadata": {},
   "source": [
    "# Roadmap\n",
    "Welcome to the NLP Module of Machine Learning Applications for Health (COMP90089). This class will use **Jupyter Notebooks** for writing code, running it on data, and viewing the results. This notebook will show the format that you can expect in the rest of the module."
   ]
  },
  {
   "cell_type": "markdown",
   "id": "2fb72a68",
   "metadata": {},
   "source": [
    "## Outline\n",
    "1. Introduction to NLP\n",
    "2. Strings in Python\n",
    "3. NLP with medspaCy\n",
    "4. Attribute Detection\n",
    "5. Pneumonia NLP Project"
   ]
  },
  {
   "cell_type": "markdown",
   "id": "a8788397",
   "metadata": {},
   "source": [
    "To be able to run this one Google Colab, you'll need to install the package for the course:"
   ]
  },
  {
   "cell_type": "code",
   "execution_count": null,
   "id": "4f4dd1f6",
   "metadata": {
    "scrolled": true
   },
   "outputs": [],
   "source": [
    "!pip install https://github.com/abchapman93/Melbourne_COMP90089_NLP/releases/download/fall_2022/melbourne_comp90089_nlp-0.0.0.1.tar.gz"
   ]
  },
  {
   "cell_type": "code",
   "execution_count": null,
   "id": "a46e6298",
   "metadata": {},
   "outputs": [],
   "source": [
    "from melbourne_comp90089_nlp import *"
   ]
  },
  {
   "cell_type": "markdown",
   "id": "86e51f8b",
   "metadata": {},
   "source": [
    "## TODO and Discussion items\n",
    "Throughout these notebooks, you'll see sections marked **TODO** or **Discussion**. Whenever you see a todo section, you'll be asked to edit or complete code. Parts of code which you need to edit will have placeholders of three underscores: `___`. You should replace these underscores with the correct snippet of code. This syntax should be familiar with you as the convention used by DataCamp.\n",
    "\n",
    "For example, if you are asked to edit the cell below to print out the text \"Hello, world!\", you should change this cell (which won't run correctly until you change it):"
   ]
  },
  {
   "cell_type": "code",
   "execution_count": null,
   "id": "8043958e",
   "metadata": {},
   "outputs": [],
   "source": [
    "___(\"Hello, world!\")"
   ]
  },
  {
   "cell_type": "markdown",
   "id": "47a3b4df",
   "metadata": {},
   "source": [
    "To this:"
   ]
  },
  {
   "cell_type": "code",
   "execution_count": null,
   "id": "a013a452",
   "metadata": {},
   "outputs": [],
   "source": [
    "print(\"Hello, world!\")"
   ]
  },
  {
   "cell_type": "markdown",
   "id": "92ee6b28",
   "metadata": {},
   "source": [
    "## Quizzes and Unit Tests\n",
    "Some of the **TODO** items will use widgets or test functions that I've made for the class. Here are some examples:"
   ]
  },
  {
   "cell_type": "code",
   "execution_count": null,
   "id": "1d0ef47c",
   "metadata": {},
   "outputs": [],
   "source": []
  },
  {
   "cell_type": "markdown",
   "id": "458dae7a",
   "metadata": {},
   "source": [
    "### 1. Multiple Choice\n",
    "Multiple choice quizzes will give you several answers. One of them is correct."
   ]
  },
  {
   "cell_type": "code",
   "execution_count": null,
   "id": "9fe47683",
   "metadata": {},
   "outputs": [],
   "source": [
    "# RUN CELL TO SEE QUIZ\n",
    "test_day_of_week"
   ]
  },
  {
   "cell_type": "markdown",
   "id": "bcf34fce",
   "metadata": {},
   "source": [
    "### 2. Select Multiple\n",
    "These quizzes will have one or more correct answers. Hold \"Command\" (Mac) or \"Ctrl\" (windows) to add another option to your selection."
   ]
  },
  {
   "cell_type": "code",
   "execution_count": null,
   "id": "3b7ac09b",
   "metadata": {},
   "outputs": [],
   "source": [
    "prime_mc "
   ]
  },
  {
   "cell_type": "markdown",
   "id": "3d022848",
   "metadata": {},
   "source": [
    "### 3. Free Text\n",
    "Free text quizzes will ask you two write a free-text value. It has to be entered exactly as expected (case insensitive), so try to follow the suggestions for how to write it."
   ]
  },
  {
   "cell_type": "code",
   "execution_count": null,
   "id": "c5537e2c",
   "metadata": {},
   "outputs": [],
   "source": [
    "# RUN CELL TO SEE QUIZ\n",
    "test_state"
   ]
  },
  {
   "cell_type": "markdown",
   "id": "e6756599",
   "metadata": {},
   "source": [
    "### 4. Function test\n",
    "Here you'll enter the name of the function and it will test whether the function returns the expected value. For example, the following test checks whether the built-in function `max` returns the largest value in an array. (This will make more sense at the end of the day!)"
   ]
  },
  {
   "cell_type": "code",
   "execution_count": null,
   "id": "245c3699",
   "metadata": {},
   "outputs": [],
   "source": [
    "# RUN CELL TO TEST VALUE\n",
    "test_max.test(max)"
   ]
  },
  {
   "cell_type": "markdown",
   "id": "7996ea1f",
   "metadata": {},
   "source": [
    "**4. Value test**: This tests whether the value of a variable is what was expected."
   ]
  },
  {
   "cell_type": "code",
   "execution_count": null,
   "id": "a7f06aa9",
   "metadata": {},
   "outputs": [],
   "source": [
    "x = 3\n",
    "x"
   ]
  },
  {
   "cell_type": "code",
   "execution_count": null,
   "id": "1ee2cc79",
   "metadata": {},
   "outputs": [],
   "source": [
    "test_x_equals_3.test(3)"
   ]
  },
  {
   "cell_type": "markdown",
   "id": "91d61657",
   "metadata": {},
   "source": [
    "### 5. Hints\n",
    "Some exercises will offer hints which you can check if you need help getting start with an answer or if the exercise is a visualization which can't be checked manually."
   ]
  },
  {
   "cell_type": "code",
   "execution_count": null,
   "id": "2cc94f92",
   "metadata": {},
   "outputs": [],
   "source": []
  },
  {
   "cell_type": "code",
   "execution_count": null,
   "id": "ef3351fd",
   "metadata": {},
   "outputs": [],
   "source": [
    "# RUN CELL TO SEE HINT\n",
    "hint_click_button"
   ]
  },
  {
   "cell_type": "code",
   "execution_count": null,
   "id": "1958c85f",
   "metadata": {},
   "outputs": [],
   "source": []
  }
 ],
 "metadata": {
  "kernelspec": {
   "display_name": "Python 3 (ipykernel)",
   "language": "python",
   "name": "python3"
  },
  "language_info": {
   "codemirror_mode": {
    "name": "ipython",
    "version": 3
   },
   "file_extension": ".py",
   "mimetype": "text/x-python",
   "name": "python",
   "nbconvert_exporter": "python",
   "pygments_lexer": "ipython3",
   "version": "3.9.12"
  }
 },
 "nbformat": 4,
 "nbformat_minor": 5
}
